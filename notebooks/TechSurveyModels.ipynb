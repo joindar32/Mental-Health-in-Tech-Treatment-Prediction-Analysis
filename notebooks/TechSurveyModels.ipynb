{
  "cells": [
    {
      "cell_type": "code",
      "execution_count": null,
      "metadata": {
        "id": "gWz5zyvpOrtD"
      },
      "outputs": [],
      "source": [
        "import matplotlib.pyplot as plt\n",
        "import numpy as np\n",
        "import pandas as pd\n",
        "import seaborn as sns\n",
        "from scipy.stats import chi2_contingency\n",
        "from sklearn.model_selection import train_test_split\n",
        "from sklearn.model_selection import train_test_split\n",
        "from sklearn.preprocessing import StandardScaler\n",
        "from sklearn.linear_model import LogisticRegression\n",
        "from sklearn.ensemble import RandomForestClassifier\n",
        "from sklearn.pipeline import Pipeline\n",
        "from sklearn.metrics import classification_report\n",
        "import xgboost as xgb\n",
        "from sklearn.preprocessing import LabelEncoder\n",
        "from sklearn.metrics import accuracy_score, classification_report\n",
        "from sklearn.ensemble import RandomForestClassifier\n",
        "from sklearn.model_selection import GridSearchCV\n",
        "from sklearn.model_selection import RandomizedSearchCV\n",
        "from sklearn.svm import SVC\n",
        "from sklearn.ensemble import GradientBoostingClassifier\n",
        "from lightgbm import LGBMClassifier\n",
        "from google.colab import files\n",
        "import time\n"
      ]
    },
    {
      "cell_type": "code",
      "execution_count": null,
      "metadata": {
        "id": "mMPRem6KO_ml"
      },
      "outputs": [],
      "source": [
        "df = pd.read_csv(\"cleaned_df.csv\")"
      ]
    },
    {
      "cell_type": "code",
      "execution_count": null,
      "metadata": {
        "colab": {
          "base_uri": "https://localhost:8080/",
          "height": 429
        },
        "id": "nw7K_wcTPIjh",
        "outputId": "fc41e7a9-dc6b-420c-a872-59fe4c0bf808"
      },
      "outputs": [
        {
          "output_type": "execute_result",
          "data": {
            "text/plain": [
              "             Timestamp  Age Gender        Country           state  \\\n",
              "0  2014-08-27 11:34:53   46   male  United States              MD   \n",
              "1  2014-08-27 11:35:08   36   male         France  Not Applicable   \n",
              "2  2014-08-27 11:35:12   29   male  United States              NY   \n",
              "3  2014-08-27 11:35:24   31   male  United States              NC   \n",
              "4  2014-08-27 11:35:48   46   male  United States              MA   \n",
              "\n",
              "  self_employed family_history treatment work_interfere no_employees  ...  \\\n",
              "0           Yes            Yes        No      Sometimes          1-5  ...   \n",
              "1           Yes            Yes        No        No data         6-25  ...   \n",
              "2            No            Yes       Yes      Sometimes      100-500  ...   \n",
              "3           Yes             No        No          Never          1-5  ...   \n",
              "4            No             No       Yes          Often       26-100  ...   \n",
              "\n",
              "  mental_health_consequence phys_health_consequence     coworkers  \\\n",
              "0                        No                      No           Yes   \n",
              "1                        No                      No  Some of them   \n",
              "2                     Maybe                      No  Some of them   \n",
              "3                        No                      No  Some of them   \n",
              "4                     Maybe                      No  Some of them   \n",
              "\n",
              "     supervisor mental_health_interview phys_health_interview  \\\n",
              "0           Yes                      No                   Yes   \n",
              "1  Some of them                   Maybe                 Maybe   \n",
              "2  Some of them                      No                    No   \n",
              "3  Some of them                      No                 Maybe   \n",
              "4           Yes                      No                 Maybe   \n",
              "\n",
              "  mental_vs_physical obs_consequence     comments Standardized_gender  \n",
              "0                Yes             Yes  No comments                male  \n",
              "1         Don't know              No  No comments                male  \n",
              "2                 No              No  No comments                male  \n",
              "3                Yes              No  No comments                male  \n",
              "4                 No              No  No comments                male  \n",
              "\n",
              "[5 rows x 28 columns]"
            ],
            "text/html": [
              "\n",
              "  <div id=\"df-78830896-915d-4eb9-bdf2-0e0ddb95f351\" class=\"colab-df-container\">\n",
              "    <div>\n",
              "<style scoped>\n",
              "    .dataframe tbody tr th:only-of-type {\n",
              "        vertical-align: middle;\n",
              "    }\n",
              "\n",
              "    .dataframe tbody tr th {\n",
              "        vertical-align: top;\n",
              "    }\n",
              "\n",
              "    .dataframe thead th {\n",
              "        text-align: right;\n",
              "    }\n",
              "</style>\n",
              "<table border=\"1\" class=\"dataframe\">\n",
              "  <thead>\n",
              "    <tr style=\"text-align: right;\">\n",
              "      <th></th>\n",
              "      <th>Timestamp</th>\n",
              "      <th>Age</th>\n",
              "      <th>Gender</th>\n",
              "      <th>Country</th>\n",
              "      <th>state</th>\n",
              "      <th>self_employed</th>\n",
              "      <th>family_history</th>\n",
              "      <th>treatment</th>\n",
              "      <th>work_interfere</th>\n",
              "      <th>no_employees</th>\n",
              "      <th>...</th>\n",
              "      <th>mental_health_consequence</th>\n",
              "      <th>phys_health_consequence</th>\n",
              "      <th>coworkers</th>\n",
              "      <th>supervisor</th>\n",
              "      <th>mental_health_interview</th>\n",
              "      <th>phys_health_interview</th>\n",
              "      <th>mental_vs_physical</th>\n",
              "      <th>obs_consequence</th>\n",
              "      <th>comments</th>\n",
              "      <th>Standardized_gender</th>\n",
              "    </tr>\n",
              "  </thead>\n",
              "  <tbody>\n",
              "    <tr>\n",
              "      <th>0</th>\n",
              "      <td>2014-08-27 11:34:53</td>\n",
              "      <td>46</td>\n",
              "      <td>male</td>\n",
              "      <td>United States</td>\n",
              "      <td>MD</td>\n",
              "      <td>Yes</td>\n",
              "      <td>Yes</td>\n",
              "      <td>No</td>\n",
              "      <td>Sometimes</td>\n",
              "      <td>1-5</td>\n",
              "      <td>...</td>\n",
              "      <td>No</td>\n",
              "      <td>No</td>\n",
              "      <td>Yes</td>\n",
              "      <td>Yes</td>\n",
              "      <td>No</td>\n",
              "      <td>Yes</td>\n",
              "      <td>Yes</td>\n",
              "      <td>Yes</td>\n",
              "      <td>No comments</td>\n",
              "      <td>male</td>\n",
              "    </tr>\n",
              "    <tr>\n",
              "      <th>1</th>\n",
              "      <td>2014-08-27 11:35:08</td>\n",
              "      <td>36</td>\n",
              "      <td>male</td>\n",
              "      <td>France</td>\n",
              "      <td>Not Applicable</td>\n",
              "      <td>Yes</td>\n",
              "      <td>Yes</td>\n",
              "      <td>No</td>\n",
              "      <td>No data</td>\n",
              "      <td>6-25</td>\n",
              "      <td>...</td>\n",
              "      <td>No</td>\n",
              "      <td>No</td>\n",
              "      <td>Some of them</td>\n",
              "      <td>Some of them</td>\n",
              "      <td>Maybe</td>\n",
              "      <td>Maybe</td>\n",
              "      <td>Don't know</td>\n",
              "      <td>No</td>\n",
              "      <td>No comments</td>\n",
              "      <td>male</td>\n",
              "    </tr>\n",
              "    <tr>\n",
              "      <th>2</th>\n",
              "      <td>2014-08-27 11:35:12</td>\n",
              "      <td>29</td>\n",
              "      <td>male</td>\n",
              "      <td>United States</td>\n",
              "      <td>NY</td>\n",
              "      <td>No</td>\n",
              "      <td>Yes</td>\n",
              "      <td>Yes</td>\n",
              "      <td>Sometimes</td>\n",
              "      <td>100-500</td>\n",
              "      <td>...</td>\n",
              "      <td>Maybe</td>\n",
              "      <td>No</td>\n",
              "      <td>Some of them</td>\n",
              "      <td>Some of them</td>\n",
              "      <td>No</td>\n",
              "      <td>No</td>\n",
              "      <td>No</td>\n",
              "      <td>No</td>\n",
              "      <td>No comments</td>\n",
              "      <td>male</td>\n",
              "    </tr>\n",
              "    <tr>\n",
              "      <th>3</th>\n",
              "      <td>2014-08-27 11:35:24</td>\n",
              "      <td>31</td>\n",
              "      <td>male</td>\n",
              "      <td>United States</td>\n",
              "      <td>NC</td>\n",
              "      <td>Yes</td>\n",
              "      <td>No</td>\n",
              "      <td>No</td>\n",
              "      <td>Never</td>\n",
              "      <td>1-5</td>\n",
              "      <td>...</td>\n",
              "      <td>No</td>\n",
              "      <td>No</td>\n",
              "      <td>Some of them</td>\n",
              "      <td>Some of them</td>\n",
              "      <td>No</td>\n",
              "      <td>Maybe</td>\n",
              "      <td>Yes</td>\n",
              "      <td>No</td>\n",
              "      <td>No comments</td>\n",
              "      <td>male</td>\n",
              "    </tr>\n",
              "    <tr>\n",
              "      <th>4</th>\n",
              "      <td>2014-08-27 11:35:48</td>\n",
              "      <td>46</td>\n",
              "      <td>male</td>\n",
              "      <td>United States</td>\n",
              "      <td>MA</td>\n",
              "      <td>No</td>\n",
              "      <td>No</td>\n",
              "      <td>Yes</td>\n",
              "      <td>Often</td>\n",
              "      <td>26-100</td>\n",
              "      <td>...</td>\n",
              "      <td>Maybe</td>\n",
              "      <td>No</td>\n",
              "      <td>Some of them</td>\n",
              "      <td>Yes</td>\n",
              "      <td>No</td>\n",
              "      <td>Maybe</td>\n",
              "      <td>No</td>\n",
              "      <td>No</td>\n",
              "      <td>No comments</td>\n",
              "      <td>male</td>\n",
              "    </tr>\n",
              "  </tbody>\n",
              "</table>\n",
              "<p>5 rows × 28 columns</p>\n",
              "</div>\n",
              "    <div class=\"colab-df-buttons\">\n",
              "\n",
              "  <div class=\"colab-df-container\">\n",
              "    <button class=\"colab-df-convert\" onclick=\"convertToInteractive('df-78830896-915d-4eb9-bdf2-0e0ddb95f351')\"\n",
              "            title=\"Convert this dataframe to an interactive table.\"\n",
              "            style=\"display:none;\">\n",
              "\n",
              "  <svg xmlns=\"http://www.w3.org/2000/svg\" height=\"24px\" viewBox=\"0 -960 960 960\">\n",
              "    <path d=\"M120-120v-720h720v720H120Zm60-500h600v-160H180v160Zm220 220h160v-160H400v160Zm0 220h160v-160H400v160ZM180-400h160v-160H180v160Zm440 0h160v-160H620v160ZM180-180h160v-160H180v160Zm440 0h160v-160H620v160Z\"/>\n",
              "  </svg>\n",
              "    </button>\n",
              "\n",
              "  <style>\n",
              "    .colab-df-container {\n",
              "      display:flex;\n",
              "      gap: 12px;\n",
              "    }\n",
              "\n",
              "    .colab-df-convert {\n",
              "      background-color: #E8F0FE;\n",
              "      border: none;\n",
              "      border-radius: 50%;\n",
              "      cursor: pointer;\n",
              "      display: none;\n",
              "      fill: #1967D2;\n",
              "      height: 32px;\n",
              "      padding: 0 0 0 0;\n",
              "      width: 32px;\n",
              "    }\n",
              "\n",
              "    .colab-df-convert:hover {\n",
              "      background-color: #E2EBFA;\n",
              "      box-shadow: 0px 1px 2px rgba(60, 64, 67, 0.3), 0px 1px 3px 1px rgba(60, 64, 67, 0.15);\n",
              "      fill: #174EA6;\n",
              "    }\n",
              "\n",
              "    .colab-df-buttons div {\n",
              "      margin-bottom: 4px;\n",
              "    }\n",
              "\n",
              "    [theme=dark] .colab-df-convert {\n",
              "      background-color: #3B4455;\n",
              "      fill: #D2E3FC;\n",
              "    }\n",
              "\n",
              "    [theme=dark] .colab-df-convert:hover {\n",
              "      background-color: #434B5C;\n",
              "      box-shadow: 0px 1px 3px 1px rgba(0, 0, 0, 0.15);\n",
              "      filter: drop-shadow(0px 1px 2px rgba(0, 0, 0, 0.3));\n",
              "      fill: #FFFFFF;\n",
              "    }\n",
              "  </style>\n",
              "\n",
              "    <script>\n",
              "      const buttonEl =\n",
              "        document.querySelector('#df-78830896-915d-4eb9-bdf2-0e0ddb95f351 button.colab-df-convert');\n",
              "      buttonEl.style.display =\n",
              "        google.colab.kernel.accessAllowed ? 'block' : 'none';\n",
              "\n",
              "      async function convertToInteractive(key) {\n",
              "        const element = document.querySelector('#df-78830896-915d-4eb9-bdf2-0e0ddb95f351');\n",
              "        const dataTable =\n",
              "          await google.colab.kernel.invokeFunction('convertToInteractive',\n",
              "                                                    [key], {});\n",
              "        if (!dataTable) return;\n",
              "\n",
              "        const docLinkHtml = 'Like what you see? Visit the ' +\n",
              "          '<a target=\"_blank\" href=https://colab.research.google.com/notebooks/data_table.ipynb>data table notebook</a>'\n",
              "          + ' to learn more about interactive tables.';\n",
              "        element.innerHTML = '';\n",
              "        dataTable['output_type'] = 'display_data';\n",
              "        await google.colab.output.renderOutput(dataTable, element);\n",
              "        const docLink = document.createElement('div');\n",
              "        docLink.innerHTML = docLinkHtml;\n",
              "        element.appendChild(docLink);\n",
              "      }\n",
              "    </script>\n",
              "  </div>\n",
              "\n",
              "\n",
              "<div id=\"df-0a485c14-e6c9-4735-86d7-4099b5978688\">\n",
              "  <button class=\"colab-df-quickchart\" onclick=\"quickchart('df-0a485c14-e6c9-4735-86d7-4099b5978688')\"\n",
              "            title=\"Suggest charts\"\n",
              "            style=\"display:none;\">\n",
              "\n",
              "<svg xmlns=\"http://www.w3.org/2000/svg\" height=\"24px\"viewBox=\"0 0 24 24\"\n",
              "     width=\"24px\">\n",
              "    <g>\n",
              "        <path d=\"M19 3H5c-1.1 0-2 .9-2 2v14c0 1.1.9 2 2 2h14c1.1 0 2-.9 2-2V5c0-1.1-.9-2-2-2zM9 17H7v-7h2v7zm4 0h-2V7h2v10zm4 0h-2v-4h2v4z\"/>\n",
              "    </g>\n",
              "</svg>\n",
              "  </button>\n",
              "\n",
              "<style>\n",
              "  .colab-df-quickchart {\n",
              "      --bg-color: #E8F0FE;\n",
              "      --fill-color: #1967D2;\n",
              "      --hover-bg-color: #E2EBFA;\n",
              "      --hover-fill-color: #174EA6;\n",
              "      --disabled-fill-color: #AAA;\n",
              "      --disabled-bg-color: #DDD;\n",
              "  }\n",
              "\n",
              "  [theme=dark] .colab-df-quickchart {\n",
              "      --bg-color: #3B4455;\n",
              "      --fill-color: #D2E3FC;\n",
              "      --hover-bg-color: #434B5C;\n",
              "      --hover-fill-color: #FFFFFF;\n",
              "      --disabled-bg-color: #3B4455;\n",
              "      --disabled-fill-color: #666;\n",
              "  }\n",
              "\n",
              "  .colab-df-quickchart {\n",
              "    background-color: var(--bg-color);\n",
              "    border: none;\n",
              "    border-radius: 50%;\n",
              "    cursor: pointer;\n",
              "    display: none;\n",
              "    fill: var(--fill-color);\n",
              "    height: 32px;\n",
              "    padding: 0;\n",
              "    width: 32px;\n",
              "  }\n",
              "\n",
              "  .colab-df-quickchart:hover {\n",
              "    background-color: var(--hover-bg-color);\n",
              "    box-shadow: 0 1px 2px rgba(60, 64, 67, 0.3), 0 1px 3px 1px rgba(60, 64, 67, 0.15);\n",
              "    fill: var(--button-hover-fill-color);\n",
              "  }\n",
              "\n",
              "  .colab-df-quickchart-complete:disabled,\n",
              "  .colab-df-quickchart-complete:disabled:hover {\n",
              "    background-color: var(--disabled-bg-color);\n",
              "    fill: var(--disabled-fill-color);\n",
              "    box-shadow: none;\n",
              "  }\n",
              "\n",
              "  .colab-df-spinner {\n",
              "    border: 2px solid var(--fill-color);\n",
              "    border-color: transparent;\n",
              "    border-bottom-color: var(--fill-color);\n",
              "    animation:\n",
              "      spin 1s steps(1) infinite;\n",
              "  }\n",
              "\n",
              "  @keyframes spin {\n",
              "    0% {\n",
              "      border-color: transparent;\n",
              "      border-bottom-color: var(--fill-color);\n",
              "      border-left-color: var(--fill-color);\n",
              "    }\n",
              "    20% {\n",
              "      border-color: transparent;\n",
              "      border-left-color: var(--fill-color);\n",
              "      border-top-color: var(--fill-color);\n",
              "    }\n",
              "    30% {\n",
              "      border-color: transparent;\n",
              "      border-left-color: var(--fill-color);\n",
              "      border-top-color: var(--fill-color);\n",
              "      border-right-color: var(--fill-color);\n",
              "    }\n",
              "    40% {\n",
              "      border-color: transparent;\n",
              "      border-right-color: var(--fill-color);\n",
              "      border-top-color: var(--fill-color);\n",
              "    }\n",
              "    60% {\n",
              "      border-color: transparent;\n",
              "      border-right-color: var(--fill-color);\n",
              "    }\n",
              "    80% {\n",
              "      border-color: transparent;\n",
              "      border-right-color: var(--fill-color);\n",
              "      border-bottom-color: var(--fill-color);\n",
              "    }\n",
              "    90% {\n",
              "      border-color: transparent;\n",
              "      border-bottom-color: var(--fill-color);\n",
              "    }\n",
              "  }\n",
              "</style>\n",
              "\n",
              "  <script>\n",
              "    async function quickchart(key) {\n",
              "      const quickchartButtonEl =\n",
              "        document.querySelector('#' + key + ' button');\n",
              "      quickchartButtonEl.disabled = true;  // To prevent multiple clicks.\n",
              "      quickchartButtonEl.classList.add('colab-df-spinner');\n",
              "      try {\n",
              "        const charts = await google.colab.kernel.invokeFunction(\n",
              "            'suggestCharts', [key], {});\n",
              "      } catch (error) {\n",
              "        console.error('Error during call to suggestCharts:', error);\n",
              "      }\n",
              "      quickchartButtonEl.classList.remove('colab-df-spinner');\n",
              "      quickchartButtonEl.classList.add('colab-df-quickchart-complete');\n",
              "    }\n",
              "    (() => {\n",
              "      let quickchartButtonEl =\n",
              "        document.querySelector('#df-0a485c14-e6c9-4735-86d7-4099b5978688 button');\n",
              "      quickchartButtonEl.style.display =\n",
              "        google.colab.kernel.accessAllowed ? 'block' : 'none';\n",
              "    })();\n",
              "  </script>\n",
              "</div>\n",
              "    </div>\n",
              "  </div>\n"
            ],
            "application/vnd.google.colaboratory.intrinsic+json": {
              "type": "dataframe",
              "variable_name": "df"
            }
          },
          "metadata": {},
          "execution_count": 42
        }
      ],
      "source": [
        "df.head(5)"
      ]
    },
    {
      "cell_type": "code",
      "execution_count": null,
      "metadata": {
        "colab": {
          "base_uri": "https://localhost:8080/"
        },
        "id": "q0XOUSKWPKNO",
        "outputId": "7786bd1b-169a-4794-b63a-864df9e5e764"
      },
      "outputs": [
        {
          "output_type": "stream",
          "name": "stdout",
          "text": [
            "<class 'pandas.core.frame.DataFrame'>\n",
            "RangeIndex: 1226 entries, 0 to 1225\n",
            "Data columns (total 28 columns):\n",
            " #   Column                     Non-Null Count  Dtype \n",
            "---  ------                     --------------  ----- \n",
            " 0   Timestamp                  1226 non-null   object\n",
            " 1   Age                        1226 non-null   int64 \n",
            " 2   Gender                     1226 non-null   object\n",
            " 3   Country                    1226 non-null   object\n",
            " 4   state                      1226 non-null   object\n",
            " 5   self_employed              1226 non-null   object\n",
            " 6   family_history             1226 non-null   object\n",
            " 7   treatment                  1226 non-null   object\n",
            " 8   work_interfere             1226 non-null   object\n",
            " 9   no_employees               1226 non-null   object\n",
            " 10  remote_work                1226 non-null   object\n",
            " 11  tech_company               1226 non-null   object\n",
            " 12  benefits                   1226 non-null   object\n",
            " 13  care_options               1226 non-null   object\n",
            " 14  wellness_program           1226 non-null   object\n",
            " 15  seek_help                  1226 non-null   object\n",
            " 16  anonymity                  1226 non-null   object\n",
            " 17  leave                      1226 non-null   object\n",
            " 18  mental_health_consequence  1226 non-null   object\n",
            " 19  phys_health_consequence    1226 non-null   object\n",
            " 20  coworkers                  1226 non-null   object\n",
            " 21  supervisor                 1226 non-null   object\n",
            " 22  mental_health_interview    1226 non-null   object\n",
            " 23  phys_health_interview      1226 non-null   object\n",
            " 24  mental_vs_physical         1226 non-null   object\n",
            " 25  obs_consequence            1226 non-null   object\n",
            " 26  comments                   1226 non-null   object\n",
            " 27  Standardized_gender        1226 non-null   object\n",
            "dtypes: int64(1), object(27)\n",
            "memory usage: 268.3+ KB\n"
          ]
        }
      ],
      "source": [
        "df.info()"
      ]
    },
    {
      "cell_type": "markdown",
      "metadata": {
        "id": "Ty9UoKmGIRx0"
      },
      "source": []
    },
    {
      "cell_type": "code",
      "execution_count": null,
      "metadata": {
        "id": "ZkCsmOZ9Xii8"
      },
      "outputs": [],
      "source": [
        "selected_features = ['Age', 'Standardized_gender', 'self_employed', 'family_history', 'work_interfere',\n",
        "                     'no_employees', 'remote_work', 'tech_company', 'benefits',\n",
        "                     'care_options', 'wellness_program', 'seek_help', 'anonymity',\n",
        "                     'leave', 'mental_health_consequence', 'phys_health_consequence',\n",
        "                     'coworkers', 'supervisor', 'mental_health_interview',\n",
        "                     'phys_health_interview', 'mental_vs_physical', 'obs_consequence']\n",
        "\n",
        "df_selected = df[selected_features + ['treatment']]\n",
        "\n",
        "categorical_columns = ['Standardized_gender', 'self_employed', 'family_history', 'work_interfere',\n",
        "                       'no_employees', 'remote_work', 'tech_company', 'benefits',\n",
        "                       'care_options', 'wellness_program', 'seek_help', 'anonymity',\n",
        "                       'leave', 'mental_health_consequence', 'phys_health_consequence',\n",
        "                       'coworkers', 'supervisor', 'mental_health_interview',\n",
        "                       'phys_health_interview', 'mental_vs_physical', 'obs_consequence']\n",
        "df_encoded = pd.get_dummies(df_selected, columns=categorical_columns)\n",
        "\n",
        "\n",
        "scaler = StandardScaler()\n",
        "\n",
        "# Стандартизируем возраст\n",
        "df_encoded['Age'] = scaler.fit_transform(df_encoded[['Age']])\n",
        "\n"
      ]
    },
    {
      "cell_type": "code",
      "execution_count": null,
      "metadata": {
        "id": "AkYOMCyH2vDN"
      },
      "outputs": [],
      "source": [
        "df_encoded['treatment'] = df_encoded['treatment'].map({'Yes': 1, 'No': 0})"
      ]
    },
    {
      "cell_type": "code",
      "execution_count": null,
      "metadata": {
        "id": "-VjjkbSDm98S"
      },
      "outputs": [],
      "source": [
        "X = df_encoded.drop('treatment', axis=1)\n",
        "y= df_encoded['treatment']\n",
        "\n",
        "label_encoder = LabelEncoder()\n",
        "y = label_encoder.fit_transform(y)\n",
        "\n",
        "X_train, X_test, y_train, y_test = train_test_split(X, y, test_size=0.3, random_state=99)"
      ]
    },
    {
      "cell_type": "code",
      "execution_count": null,
      "metadata": {
        "colab": {
          "base_uri": "https://localhost:8080/"
        },
        "id": "3zp6eV-3pcgo",
        "outputId": "458a31ff-0a46-4fae-fd8b-1ecda83504b0"
      },
      "outputs": [
        {
          "output_type": "stream",
          "name": "stdout",
          "text": [
            "Логистическая регрессия:\n",
            "Точность: 0.8179347826086957\n",
            "              precision    recall  f1-score   support\n",
            "\n",
            "           0       0.89      0.74      0.81       190\n",
            "           1       0.76      0.90      0.83       178\n",
            "\n",
            "    accuracy                           0.82       368\n",
            "   macro avg       0.83      0.82      0.82       368\n",
            "weighted avg       0.83      0.82      0.82       368\n",
            "\n"
          ]
        }
      ],
      "source": [
        "# Создаем экземпляр модели логистической регрессии\n",
        "log_reg = LogisticRegression(max_iter=1000)\n",
        "\n",
        "# Обучаем модель\n",
        "log_reg.fit(X_train, y_train)\n",
        "\n",
        "# Предсказываем на тестовых данных\n",
        "y_pred_log_reg = log_reg.predict(X_test)\n",
        "\n",
        "# Оценка модели\n",
        "print(\"Логистическая регрессия:\")\n",
        "print(\"Точность:\", accuracy_score(y_test, y_pred_log_reg))\n",
        "print(classification_report(y_test, y_pred_log_reg))"
      ]
    },
    {
      "cell_type": "code",
      "execution_count": null,
      "metadata": {
        "colab": {
          "base_uri": "https://localhost:8080/"
        },
        "id": "3ATx-dChpc2W",
        "outputId": "aff7e2cb-5dee-4505-94c8-10a73a13f48d"
      },
      "outputs": [
        {
          "output_type": "stream",
          "name": "stdout",
          "text": [
            "Random Forest:\n",
            "Точность: 0.8179347826086957\n",
            "              precision    recall  f1-score   support\n",
            "\n",
            "           0       0.90      0.73      0.80       190\n",
            "           1       0.76      0.92      0.83       178\n",
            "\n",
            "    accuracy                           0.82       368\n",
            "   macro avg       0.83      0.82      0.82       368\n",
            "weighted avg       0.83      0.82      0.82       368\n",
            "\n"
          ]
        }
      ],
      "source": [
        "# Создаем экземпляр модели Random Forest\n",
        "rf_model = RandomForestClassifier(random_state=99)\n",
        "\n",
        "# Обучаем модель\n",
        "rf_model.fit(X_train, y_train)\n",
        "\n",
        "# Предсказываем на тестовых данных\n",
        "y_pred_rf = rf_model.predict(X_test)\n",
        "\n",
        "# Оценка модели\n",
        "print(\"Random Forest:\")\n",
        "print(\"Точность:\", accuracy_score(y_test, y_pred_rf))\n",
        "print(classification_report(y_test, y_pred_rf))\n"
      ]
    },
    {
      "cell_type": "code",
      "execution_count": null,
      "metadata": {
        "colab": {
          "base_uri": "https://localhost:8080/"
        },
        "id": "pPI8jLLl48wp",
        "outputId": "d5b47429-07fc-4ace-dcf3-0e6a33df6b5d"
      },
      "outputs": [
        {
          "output_type": "stream",
          "name": "stdout",
          "text": [
            "Fitting 5 folds for each of 16 candidates, totalling 80 fits\n",
            "Лучшие параметры Random Forest: {'max_depth': 5, 'max_features': 'sqrt', 'min_samples_split': 2, 'n_estimators': 100}\n",
            "Лучшая точность: 0.8239358085135319\n"
          ]
        },
        {
          "output_type": "stream",
          "name": "stderr",
          "text": [
            "/usr/local/lib/python3.10/dist-packages/numpy/ma/core.py:2820: RuntimeWarning: invalid value encountered in cast\n",
            "  _data = np.array(data, dtype=dtype, copy=copy,\n"
          ]
        }
      ],
      "source": [
        "rf_model = RandomForestClassifier(random_state=99)\n",
        "\n",
        "# Задаем гиперпараметры для поиска\n",
        "param_grid = {\n",
        "    'n_estimators': [50, 100],\n",
        "    'max_depth': [5, 10],\n",
        "    'min_samples_split': [2, 5],\n",
        "    'max_features': ['sqrt', 'log2'],\n",
        "}\n",
        "\n",
        "\n",
        "\n",
        "grid_search_rf = GridSearchCV(estimator=rf_model, param_grid=param_grid,\n",
        "                               cv=5, scoring='accuracy', verbose=2, n_jobs=-1)\n",
        "\n",
        "\n",
        "grid_search_rf.fit(X_train, y_train)\n",
        "\n",
        "\n",
        "print(\"Лучшие параметры Random Forest:\", grid_search_rf.best_params_)\n",
        "print(\"Лучшая точность:\", grid_search_rf.best_score_)\n"
      ]
    },
    {
      "cell_type": "code",
      "execution_count": null,
      "metadata": {
        "colab": {
          "base_uri": "https://localhost:8080/"
        },
        "id": "-rK0lLWawqYr",
        "outputId": "775b64d1-f36a-4046-f00e-156fac4d6316"
      },
      "outputs": [
        {
          "output_type": "stream",
          "name": "stdout",
          "text": [
            "XGBoost:\n",
            "Точность: 0.782608695652174\n",
            "              precision    recall  f1-score   support\n",
            "\n",
            "           0       0.83      0.73      0.78       190\n",
            "           1       0.74      0.84      0.79       178\n",
            "\n",
            "    accuracy                           0.78       368\n",
            "   macro avg       0.79      0.78      0.78       368\n",
            "weighted avg       0.79      0.78      0.78       368\n",
            "\n"
          ]
        }
      ],
      "source": [
        "import xgboost as xgb\n",
        "\n",
        "# Создаем экземпляр модели XGBoost\n",
        "xgb_model = xgb.XGBClassifier(random_state=99)\n",
        "\n",
        "\n",
        "xgb_model.fit(X_train, y_train)\n",
        "\n",
        "y_pred_xgb = xgb_model.predict(X_test)\n",
        "\n",
        "print(\"XGBoost:\")\n",
        "print(\"Точность:\", accuracy_score(y_test, y_pred_xgb))\n",
        "print(classification_report(y_test, y_pred_xgb))\n"
      ]
    },
    {
      "cell_type": "code",
      "execution_count": null,
      "metadata": {
        "colab": {
          "base_uri": "https://localhost:8080/"
        },
        "id": "hmETddlqwvce",
        "outputId": "f21af0c1-2b14-4d0a-f35f-b2561336e231"
      },
      "outputs": [
        {
          "output_type": "stream",
          "name": "stdout",
          "text": [
            "Fitting 5 folds for each of 50 candidates, totalling 250 fits\n",
            "Лучшие параметры XGBoost: {'subsample': 0.7, 'n_estimators': 50, 'max_depth': 3, 'learning_rate': 0.01, 'colsample_bytree': 1.0}\n",
            "Лучшая точность: 0.8286141710866313\n"
          ]
        }
      ],
      "source": [
        "xgb_model = xgb.XGBClassifier(random_state=99)\n",
        "\n",
        "# Задаем гиперпараметры для поиска\n",
        "param_dist_xgb = {\n",
        "    'n_estimators': [50, 100, 200],\n",
        "    'max_depth': [3, 4, 5, 6, 7],\n",
        "    'learning_rate': [0.01, 0.1, 0.2],\n",
        "    'subsample': [0.5, 0.7, 1.0],\n",
        "    'colsample_bytree': [0.5, 0.7, 1.0]\n",
        "}\n",
        "\n",
        "# Инициализируем RandomizedSearchCV\n",
        "random_search_xgb = RandomizedSearchCV(estimator=xgb_model, param_distributions=param_dist_xgb,\n",
        "                                        n_iter=50, cv=5, scoring='accuracy', verbose=2, n_jobs=-1)\n",
        "\n",
        "random_search_xgb.fit(X_train, y_train)\n",
        "\n",
        "print(\"Лучшие параметры XGBoost:\", random_search_xgb.best_params_)\n",
        "print(\"Лучшая точность:\", random_search_xgb.best_score_)\n"
      ]
    },
    {
      "cell_type": "code",
      "execution_count": null,
      "metadata": {
        "colab": {
          "base_uri": "https://localhost:8080/"
        },
        "id": "bDljS4YDw1Xm",
        "outputId": "79a2d8f3-5d42-499c-b7c3-afd90fb693e5"
      },
      "outputs": [
        {
          "output_type": "stream",
          "name": "stdout",
          "text": [
            "SVM:\n",
            "Точность: 0.8233695652173914\n",
            "              precision    recall  f1-score   support\n",
            "\n",
            "           0       0.93      0.71      0.81       190\n",
            "           1       0.75      0.94      0.84       178\n",
            "\n",
            "    accuracy                           0.82       368\n",
            "   macro avg       0.84      0.83      0.82       368\n",
            "weighted avg       0.85      0.82      0.82       368\n",
            "\n"
          ]
        }
      ],
      "source": [
        "# Создаем экземпляр модели SVM\n",
        "svm_model = SVC(random_state=99)\n",
        "\n",
        "svm_model.fit(X_train, y_train)\n",
        "\n",
        "y_pred_svm = svm_model.predict(X_test)\n",
        "\n",
        "print(\"SVM:\")\n",
        "print(\"Точность:\", accuracy_score(y_test, y_pred_svm))\n",
        "print(classification_report(y_test, y_pred_svm))\n"
      ]
    },
    {
      "cell_type": "code",
      "execution_count": null,
      "metadata": {
        "colab": {
          "base_uri": "https://localhost:8080/"
        },
        "id": "C5P8D2m6w1VX",
        "outputId": "1a067554-02d2-4a0c-d64a-7fb05595a314"
      },
      "outputs": [
        {
          "output_type": "stream",
          "name": "stdout",
          "text": [
            "Fitting 5 folds for each of 12 candidates, totalling 60 fits\n",
            "Лучшие параметры SVM: {'C': 1, 'gamma': 'scale', 'kernel': 'rbf'}\n",
            "Лучшая точность: 0.8332789337685298\n"
          ]
        }
      ],
      "source": [
        "svm_model = SVC(random_state=99)\n",
        "\n",
        "# Задаем гиперпараметры для поиска\n",
        "param_grid_svm = {\n",
        "    'C': [0.1, 1, 10],\n",
        "    'kernel': ['linear', 'rbf'],  # разные ядра\n",
        "    'gamma': ['scale', 'auto']\n",
        "}\n",
        "\n",
        "# Инициализируем GridSearchCV\n",
        "grid_search_svm = GridSearchCV(estimator=svm_model, param_grid=param_grid_svm,\n",
        "                                cv=5, scoring='accuracy', verbose=2, n_jobs=-1)\n",
        "\n",
        "grid_search_svm.fit(X_train, y_train)\n",
        "\n",
        "print(\"Лучшие параметры SVM:\", grid_search_svm.best_params_)\n",
        "print(\"Лучшая точность:\", grid_search_svm.best_score_)\n"
      ]
    },
    {
      "cell_type": "code",
      "execution_count": null,
      "metadata": {
        "colab": {
          "base_uri": "https://localhost:8080/"
        },
        "id": "8LCJm7j60ZfB",
        "outputId": "6ea021e4-293f-4792-a128-e288dbbdbf63"
      },
      "outputs": [
        {
          "output_type": "stream",
          "name": "stdout",
          "text": [
            "Requirement already satisfied: lightgbm in /usr/local/lib/python3.10/dist-packages (4.5.0)\n",
            "Requirement already satisfied: numpy>=1.17.0 in /usr/local/lib/python3.10/dist-packages (from lightgbm) (1.26.4)\n",
            "Requirement already satisfied: scipy in /usr/local/lib/python3.10/dist-packages (from lightgbm) (1.13.1)\n"
          ]
        }
      ],
      "source": [
        "pip install lightgbm\n"
      ]
    },
    {
      "cell_type": "code",
      "execution_count": null,
      "metadata": {
        "colab": {
          "base_uri": "https://localhost:8080/"
        },
        "id": "roY1jvWW0tiX",
        "outputId": "0d0bd8c1-1922-4079-c9de-16bb991b0ee8"
      },
      "outputs": [
        {
          "output_type": "stream",
          "name": "stdout",
          "text": [
            "Requirement already satisfied: dask[dataframe] in /usr/local/lib/python3.10/dist-packages (2024.8.0)\n",
            "Requirement already satisfied: click>=8.1 in /usr/local/lib/python3.10/dist-packages (from dask[dataframe]) (8.1.7)\n",
            "Requirement already satisfied: cloudpickle>=1.5.0 in /usr/local/lib/python3.10/dist-packages (from dask[dataframe]) (2.2.1)\n",
            "Requirement already satisfied: fsspec>=2021.09.0 in /usr/local/lib/python3.10/dist-packages (from dask[dataframe]) (2024.6.1)\n",
            "Requirement already satisfied: packaging>=20.0 in /usr/local/lib/python3.10/dist-packages (from dask[dataframe]) (24.1)\n",
            "Requirement already satisfied: partd>=1.4.0 in /usr/local/lib/python3.10/dist-packages (from dask[dataframe]) (1.4.2)\n",
            "Requirement already satisfied: pyyaml>=5.3.1 in /usr/local/lib/python3.10/dist-packages (from dask[dataframe]) (6.0.2)\n",
            "Requirement already satisfied: toolz>=0.10.0 in /usr/local/lib/python3.10/dist-packages (from dask[dataframe]) (0.12.1)\n",
            "Requirement already satisfied: importlib-metadata>=4.13.0 in /usr/local/lib/python3.10/dist-packages (from dask[dataframe]) (8.4.0)\n",
            "Requirement already satisfied: pandas>=2.0 in /usr/local/lib/python3.10/dist-packages (from dask[dataframe]) (2.2.2)\n",
            "Requirement already satisfied: dask-expr<1.2,>=1.1 in /usr/local/lib/python3.10/dist-packages (from dask[dataframe]) (1.1.10)\n",
            "Requirement already satisfied: pyarrow>=7.0.0 in /usr/local/lib/python3.10/dist-packages (from dask-expr<1.2,>=1.1->dask[dataframe]) (16.1.0)\n",
            "Requirement already satisfied: zipp>=0.5 in /usr/local/lib/python3.10/dist-packages (from importlib-metadata>=4.13.0->dask[dataframe]) (3.20.2)\n",
            "Requirement already satisfied: numpy>=1.22.4 in /usr/local/lib/python3.10/dist-packages (from pandas>=2.0->dask[dataframe]) (1.26.4)\n",
            "Requirement already satisfied: python-dateutil>=2.8.2 in /usr/local/lib/python3.10/dist-packages (from pandas>=2.0->dask[dataframe]) (2.8.2)\n",
            "Requirement already satisfied: pytz>=2020.1 in /usr/local/lib/python3.10/dist-packages (from pandas>=2.0->dask[dataframe]) (2024.2)\n",
            "Requirement already satisfied: tzdata>=2022.7 in /usr/local/lib/python3.10/dist-packages (from pandas>=2.0->dask[dataframe]) (2024.2)\n",
            "Requirement already satisfied: locket in /usr/local/lib/python3.10/dist-packages (from partd>=1.4.0->dask[dataframe]) (1.0.0)\n",
            "Requirement already satisfied: six>=1.5 in /usr/local/lib/python3.10/dist-packages (from python-dateutil>=2.8.2->pandas>=2.0->dask[dataframe]) (1.16.0)\n"
          ]
        }
      ],
      "source": [
        "pip install dask[dataframe]\n"
      ]
    },
    {
      "cell_type": "code",
      "execution_count": null,
      "metadata": {
        "id": "a8XDq3kE1GiM"
      },
      "outputs": [],
      "source": [
        "X_train.columns = X_train.columns.str.replace('[^a-zA-Z0-9]', '_', regex=True)\n"
      ]
    },
    {
      "cell_type": "code",
      "execution_count": null,
      "metadata": {
        "colab": {
          "base_uri": "https://localhost:8080/"
        },
        "id": "4NX52MEN0bHB",
        "outputId": "10d9ab23-3909-4dfd-80e7-738216b7bd0f"
      },
      "outputs": [
        {
          "output_type": "stream",
          "name": "stdout",
          "text": [
            "Лучшие параметры Gradient Boosting: {'learning_rate': 0.01, 'max_depth': 3, 'n_estimators': 50, 'subsample': 0.8}\n",
            "Лучшая точность Gradient Boosting: 0.8286141710866313\n"
          ]
        }
      ],
      "source": [
        "\n",
        "# Настройка параметров для Gradient Boosting\n",
        "gb_params = {\n",
        "    'n_estimators': [50, 100],\n",
        "    'learning_rate': [0.01, 0.1],\n",
        "    'max_depth': [3, 5, 7],\n",
        "    'subsample': [0.8, 1.0]\n",
        "}\n",
        "\n",
        "# Оптимизация гиперпараметров для Gradient Boosting\n",
        "gb_clf = GradientBoostingClassifier()\n",
        "gb_grid = GridSearchCV(gb_clf, gb_params, cv=5, scoring='accuracy', n_jobs=-1)\n",
        "gb_grid.fit(X_train, y_train)\n",
        "\n",
        "# Лучшие параметры и точность\n",
        "print(\"Лучшие параметры Gradient Boosting:\", gb_grid.best_params_)\n",
        "print(\"Лучшая точность Gradient Boosting:\", gb_grid.best_score_)\n",
        "\n",
        "\n"
      ]
    },
    {
      "cell_type": "code",
      "execution_count": null,
      "metadata": {
        "colab": {
          "base_uri": "https://localhost:8080/"
        },
        "id": "wF8wSJcx1MrR",
        "outputId": "f6824770-101c-43d4-8c99-9fec2aa7943b"
      },
      "outputs": [
        {
          "output_type": "stream",
          "name": "stdout",
          "text": [
            "[LightGBM] [Info] Number of positive: 442, number of negative: 416\n",
            "[LightGBM] [Info] Auto-choosing row-wise multi-threading, the overhead of testing was 0.000414 seconds.\n",
            "You can set `force_row_wise=true` to remove the overhead.\n",
            "And if memory is not enough, you can set `force_col_wise=true`.\n",
            "[LightGBM] [Info] Total Bins 166\n",
            "[LightGBM] [Info] Number of data points in the train set: 858, number of used features: 65\n",
            "[LightGBM] [Info] [binary:BoostFromScore]: pavg=0.515152 -> initscore=0.060625\n",
            "[LightGBM] [Info] Start training from score 0.060625\n",
            "[LightGBM] [Warning] No further splits with positive gain, best gain: -inf\n",
            "[LightGBM] [Warning] No further splits with positive gain, best gain: -inf\n",
            "[LightGBM] [Warning] No further splits with positive gain, best gain: -inf\n",
            "[LightGBM] [Warning] No further splits with positive gain, best gain: -inf\n",
            "[LightGBM] [Warning] No further splits with positive gain, best gain: -inf\n",
            "[LightGBM] [Warning] No further splits with positive gain, best gain: -inf\n",
            "[LightGBM] [Warning] No further splits with positive gain, best gain: -inf\n",
            "[LightGBM] [Warning] No further splits with positive gain, best gain: -inf\n",
            "[LightGBM] [Warning] No further splits with positive gain, best gain: -inf\n",
            "[LightGBM] [Warning] No further splits with positive gain, best gain: -inf\n",
            "[LightGBM] [Warning] No further splits with positive gain, best gain: -inf\n",
            "[LightGBM] [Warning] No further splits with positive gain, best gain: -inf\n",
            "[LightGBM] [Warning] No further splits with positive gain, best gain: -inf\n",
            "[LightGBM] [Warning] No further splits with positive gain, best gain: -inf\n",
            "[LightGBM] [Warning] No further splits with positive gain, best gain: -inf\n",
            "[LightGBM] [Warning] No further splits with positive gain, best gain: -inf\n",
            "[LightGBM] [Warning] No further splits with positive gain, best gain: -inf\n",
            "[LightGBM] [Warning] No further splits with positive gain, best gain: -inf\n",
            "[LightGBM] [Warning] No further splits with positive gain, best gain: -inf\n",
            "[LightGBM] [Warning] No further splits with positive gain, best gain: -inf\n",
            "[LightGBM] [Warning] No further splits with positive gain, best gain: -inf\n",
            "[LightGBM] [Warning] No further splits with positive gain, best gain: -inf\n",
            "[LightGBM] [Warning] No further splits with positive gain, best gain: -inf\n",
            "[LightGBM] [Warning] No further splits with positive gain, best gain: -inf\n",
            "[LightGBM] [Warning] No further splits with positive gain, best gain: -inf\n",
            "[LightGBM] [Warning] No further splits with positive gain, best gain: -inf\n",
            "[LightGBM] [Warning] No further splits with positive gain, best gain: -inf\n",
            "[LightGBM] [Warning] No further splits with positive gain, best gain: -inf\n",
            "[LightGBM] [Warning] No further splits with positive gain, best gain: -inf\n",
            "[LightGBM] [Warning] No further splits with positive gain, best gain: -inf\n",
            "[LightGBM] [Warning] No further splits with positive gain, best gain: -inf\n",
            "[LightGBM] [Warning] No further splits with positive gain, best gain: -inf\n",
            "[LightGBM] [Warning] No further splits with positive gain, best gain: -inf\n",
            "[LightGBM] [Warning] No further splits with positive gain, best gain: -inf\n",
            "[LightGBM] [Warning] No further splits with positive gain, best gain: -inf\n",
            "[LightGBM] [Warning] No further splits with positive gain, best gain: -inf\n",
            "[LightGBM] [Warning] No further splits with positive gain, best gain: -inf\n",
            "[LightGBM] [Warning] No further splits with positive gain, best gain: -inf\n",
            "[LightGBM] [Warning] No further splits with positive gain, best gain: -inf\n",
            "[LightGBM] [Warning] No further splits with positive gain, best gain: -inf\n",
            "[LightGBM] [Warning] No further splits with positive gain, best gain: -inf\n",
            "[LightGBM] [Warning] No further splits with positive gain, best gain: -inf\n",
            "[LightGBM] [Warning] No further splits with positive gain, best gain: -inf\n",
            "[LightGBM] [Warning] No further splits with positive gain, best gain: -inf\n",
            "[LightGBM] [Warning] No further splits with positive gain, best gain: -inf\n",
            "[LightGBM] [Warning] No further splits with positive gain, best gain: -inf\n",
            "[LightGBM] [Warning] No further splits with positive gain, best gain: -inf\n",
            "[LightGBM] [Warning] No further splits with positive gain, best gain: -inf\n",
            "[LightGBM] [Warning] No further splits with positive gain, best gain: -inf\n",
            "[LightGBM] [Warning] No further splits with positive gain, best gain: -inf\n",
            "Лучшие параметры LightGBM: {'learning_rate': 0.01, 'max_depth': 5, 'n_estimators': 50, 'num_leaves': 31}\n",
            "Лучшая точность LightGBM: 0.8274445804433566\n"
          ]
        },
        {
          "output_type": "stream",
          "name": "stderr",
          "text": [
            "/usr/local/lib/python3.10/dist-packages/numpy/ma/core.py:2820: RuntimeWarning: invalid value encountered in cast\n",
            "  _data = np.array(data, dtype=dtype, copy=copy,\n"
          ]
        }
      ],
      "source": [
        "# Настройка параметров для LightGBM\n",
        "lgb_params = {\n",
        "    'n_estimators': [50, 100],\n",
        "    'learning_rate': [0.01, 0.1],\n",
        "    'max_depth': [-1, 5, 10],\n",
        "    'num_leaves': [31, 63]\n",
        "}\n",
        "\n",
        "# Оптимизация гиперпараметров для LightGBM\n",
        "lgb_clf = LGBMClassifier()\n",
        "lgb_grid = GridSearchCV(lgb_clf, lgb_params, cv=5, scoring='accuracy', n_jobs=-1)\n",
        "lgb_grid.fit(X_train, y_train)\n",
        "\n",
        "# Лучшие параметры и точность\n",
        "print(\"Лучшие параметры LightGBM:\", lgb_grid.best_params_)\n",
        "print(\"Лучшая точность LightGBM:\", lgb_grid.best_score_)"
      ]
    },
    {
      "cell_type": "code",
      "execution_count": null,
      "metadata": {
        "id": "1MNJT0iSvQse"
      },
      "outputs": [],
      "source": [
        "df_encoded = pd.read_csv(\"df_significant.csv\")"
      ]
    },
    {
      "cell_type": "code",
      "execution_count": null,
      "metadata": {
        "colab": {
          "base_uri": "https://localhost:8080/",
          "height": 273
        },
        "id": "AL6cWukWvT7C",
        "outputId": "62f1cdb8-37ca-41e1-a226-af80fd8bc364"
      },
      "outputs": [
        {
          "output_type": "execute_result",
          "data": {
            "text/plain": [
              "   work_interfere_No data  work_interfere_Sometimes  work_interfere_Never  \\\n",
              "0                   False                      True                 False   \n",
              "1                    True                     False                 False   \n",
              "2                   False                      True                 False   \n",
              "3                   False                     False                  True   \n",
              "4                   False                     False                 False   \n",
              "\n",
              "   family_history_Yes  family_history_No  work_interfere_Often  \\\n",
              "0                True              False                 False   \n",
              "1                True              False                 False   \n",
              "2                True              False                 False   \n",
              "3               False               True                 False   \n",
              "4               False               True                  True   \n",
              "\n",
              "   care_options_Yes  benefits_Yes  Standardized_gender_female  \\\n",
              "0             False          True                       False   \n",
              "1             False         False                       False   \n",
              "2              True          True                       False   \n",
              "3             False         False                       False   \n",
              "4              True          True                       False   \n",
              "\n",
              "   benefits_Don't know  ...  mental_health_consequence_Yes  seek_help_Yes  \\\n",
              "0                False  ...                          False          False   \n",
              "1                False  ...                          False          False   \n",
              "2                False  ...                          False          False   \n",
              "3                False  ...                          False          False   \n",
              "4                False  ...                          False          False   \n",
              "\n",
              "   mental_vs_physical_Don't know  wellness_program_Yes  leave_Don't know  \\\n",
              "0                          False                  True             False   \n",
              "1                           True                  True             False   \n",
              "2                          False                 False             False   \n",
              "3                          False                 False             False   \n",
              "4                          False                 False              True   \n",
              "\n",
              "   Standardized_gender_other  no_employees_6-25  coworkers_Yes  \\\n",
              "0                      False              False           True   \n",
              "1                      False               True          False   \n",
              "2                      False              False          False   \n",
              "3                      False              False          False   \n",
              "4                      False              False          False   \n",
              "\n",
              "   obs_consequence_No  treatment  \n",
              "0               False          0  \n",
              "1                True          0  \n",
              "2                True          1  \n",
              "3                True          0  \n",
              "4                True          1  \n",
              "\n",
              "[5 rows x 32 columns]"
            ],
            "text/html": [
              "\n",
              "  <div id=\"df-e135f4ae-ab57-4f39-a878-648aac1a9cab\" class=\"colab-df-container\">\n",
              "    <div>\n",
              "<style scoped>\n",
              "    .dataframe tbody tr th:only-of-type {\n",
              "        vertical-align: middle;\n",
              "    }\n",
              "\n",
              "    .dataframe tbody tr th {\n",
              "        vertical-align: top;\n",
              "    }\n",
              "\n",
              "    .dataframe thead th {\n",
              "        text-align: right;\n",
              "    }\n",
              "</style>\n",
              "<table border=\"1\" class=\"dataframe\">\n",
              "  <thead>\n",
              "    <tr style=\"text-align: right;\">\n",
              "      <th></th>\n",
              "      <th>work_interfere_No data</th>\n",
              "      <th>work_interfere_Sometimes</th>\n",
              "      <th>work_interfere_Never</th>\n",
              "      <th>family_history_Yes</th>\n",
              "      <th>family_history_No</th>\n",
              "      <th>work_interfere_Often</th>\n",
              "      <th>care_options_Yes</th>\n",
              "      <th>benefits_Yes</th>\n",
              "      <th>Standardized_gender_female</th>\n",
              "      <th>benefits_Don't know</th>\n",
              "      <th>...</th>\n",
              "      <th>mental_health_consequence_Yes</th>\n",
              "      <th>seek_help_Yes</th>\n",
              "      <th>mental_vs_physical_Don't know</th>\n",
              "      <th>wellness_program_Yes</th>\n",
              "      <th>leave_Don't know</th>\n",
              "      <th>Standardized_gender_other</th>\n",
              "      <th>no_employees_6-25</th>\n",
              "      <th>coworkers_Yes</th>\n",
              "      <th>obs_consequence_No</th>\n",
              "      <th>treatment</th>\n",
              "    </tr>\n",
              "  </thead>\n",
              "  <tbody>\n",
              "    <tr>\n",
              "      <th>0</th>\n",
              "      <td>False</td>\n",
              "      <td>True</td>\n",
              "      <td>False</td>\n",
              "      <td>True</td>\n",
              "      <td>False</td>\n",
              "      <td>False</td>\n",
              "      <td>False</td>\n",
              "      <td>True</td>\n",
              "      <td>False</td>\n",
              "      <td>False</td>\n",
              "      <td>...</td>\n",
              "      <td>False</td>\n",
              "      <td>False</td>\n",
              "      <td>False</td>\n",
              "      <td>True</td>\n",
              "      <td>False</td>\n",
              "      <td>False</td>\n",
              "      <td>False</td>\n",
              "      <td>True</td>\n",
              "      <td>False</td>\n",
              "      <td>0</td>\n",
              "    </tr>\n",
              "    <tr>\n",
              "      <th>1</th>\n",
              "      <td>True</td>\n",
              "      <td>False</td>\n",
              "      <td>False</td>\n",
              "      <td>True</td>\n",
              "      <td>False</td>\n",
              "      <td>False</td>\n",
              "      <td>False</td>\n",
              "      <td>False</td>\n",
              "      <td>False</td>\n",
              "      <td>False</td>\n",
              "      <td>...</td>\n",
              "      <td>False</td>\n",
              "      <td>False</td>\n",
              "      <td>True</td>\n",
              "      <td>True</td>\n",
              "      <td>False</td>\n",
              "      <td>False</td>\n",
              "      <td>True</td>\n",
              "      <td>False</td>\n",
              "      <td>True</td>\n",
              "      <td>0</td>\n",
              "    </tr>\n",
              "    <tr>\n",
              "      <th>2</th>\n",
              "      <td>False</td>\n",
              "      <td>True</td>\n",
              "      <td>False</td>\n",
              "      <td>True</td>\n",
              "      <td>False</td>\n",
              "      <td>False</td>\n",
              "      <td>True</td>\n",
              "      <td>True</td>\n",
              "      <td>False</td>\n",
              "      <td>False</td>\n",
              "      <td>...</td>\n",
              "      <td>False</td>\n",
              "      <td>False</td>\n",
              "      <td>False</td>\n",
              "      <td>False</td>\n",
              "      <td>False</td>\n",
              "      <td>False</td>\n",
              "      <td>False</td>\n",
              "      <td>False</td>\n",
              "      <td>True</td>\n",
              "      <td>1</td>\n",
              "    </tr>\n",
              "    <tr>\n",
              "      <th>3</th>\n",
              "      <td>False</td>\n",
              "      <td>False</td>\n",
              "      <td>True</td>\n",
              "      <td>False</td>\n",
              "      <td>True</td>\n",
              "      <td>False</td>\n",
              "      <td>False</td>\n",
              "      <td>False</td>\n",
              "      <td>False</td>\n",
              "      <td>False</td>\n",
              "      <td>...</td>\n",
              "      <td>False</td>\n",
              "      <td>False</td>\n",
              "      <td>False</td>\n",
              "      <td>False</td>\n",
              "      <td>False</td>\n",
              "      <td>False</td>\n",
              "      <td>False</td>\n",
              "      <td>False</td>\n",
              "      <td>True</td>\n",
              "      <td>0</td>\n",
              "    </tr>\n",
              "    <tr>\n",
              "      <th>4</th>\n",
              "      <td>False</td>\n",
              "      <td>False</td>\n",
              "      <td>False</td>\n",
              "      <td>False</td>\n",
              "      <td>True</td>\n",
              "      <td>True</td>\n",
              "      <td>True</td>\n",
              "      <td>True</td>\n",
              "      <td>False</td>\n",
              "      <td>False</td>\n",
              "      <td>...</td>\n",
              "      <td>False</td>\n",
              "      <td>False</td>\n",
              "      <td>False</td>\n",
              "      <td>False</td>\n",
              "      <td>True</td>\n",
              "      <td>False</td>\n",
              "      <td>False</td>\n",
              "      <td>False</td>\n",
              "      <td>True</td>\n",
              "      <td>1</td>\n",
              "    </tr>\n",
              "  </tbody>\n",
              "</table>\n",
              "<p>5 rows × 32 columns</p>\n",
              "</div>\n",
              "    <div class=\"colab-df-buttons\">\n",
              "\n",
              "  <div class=\"colab-df-container\">\n",
              "    <button class=\"colab-df-convert\" onclick=\"convertToInteractive('df-e135f4ae-ab57-4f39-a878-648aac1a9cab')\"\n",
              "            title=\"Convert this dataframe to an interactive table.\"\n",
              "            style=\"display:none;\">\n",
              "\n",
              "  <svg xmlns=\"http://www.w3.org/2000/svg\" height=\"24px\" viewBox=\"0 -960 960 960\">\n",
              "    <path d=\"M120-120v-720h720v720H120Zm60-500h600v-160H180v160Zm220 220h160v-160H400v160Zm0 220h160v-160H400v160ZM180-400h160v-160H180v160Zm440 0h160v-160H620v160ZM180-180h160v-160H180v160Zm440 0h160v-160H620v160Z\"/>\n",
              "  </svg>\n",
              "    </button>\n",
              "\n",
              "  <style>\n",
              "    .colab-df-container {\n",
              "      display:flex;\n",
              "      gap: 12px;\n",
              "    }\n",
              "\n",
              "    .colab-df-convert {\n",
              "      background-color: #E8F0FE;\n",
              "      border: none;\n",
              "      border-radius: 50%;\n",
              "      cursor: pointer;\n",
              "      display: none;\n",
              "      fill: #1967D2;\n",
              "      height: 32px;\n",
              "      padding: 0 0 0 0;\n",
              "      width: 32px;\n",
              "    }\n",
              "\n",
              "    .colab-df-convert:hover {\n",
              "      background-color: #E2EBFA;\n",
              "      box-shadow: 0px 1px 2px rgba(60, 64, 67, 0.3), 0px 1px 3px 1px rgba(60, 64, 67, 0.15);\n",
              "      fill: #174EA6;\n",
              "    }\n",
              "\n",
              "    .colab-df-buttons div {\n",
              "      margin-bottom: 4px;\n",
              "    }\n",
              "\n",
              "    [theme=dark] .colab-df-convert {\n",
              "      background-color: #3B4455;\n",
              "      fill: #D2E3FC;\n",
              "    }\n",
              "\n",
              "    [theme=dark] .colab-df-convert:hover {\n",
              "      background-color: #434B5C;\n",
              "      box-shadow: 0px 1px 3px 1px rgba(0, 0, 0, 0.15);\n",
              "      filter: drop-shadow(0px 1px 2px rgba(0, 0, 0, 0.3));\n",
              "      fill: #FFFFFF;\n",
              "    }\n",
              "  </style>\n",
              "\n",
              "    <script>\n",
              "      const buttonEl =\n",
              "        document.querySelector('#df-e135f4ae-ab57-4f39-a878-648aac1a9cab button.colab-df-convert');\n",
              "      buttonEl.style.display =\n",
              "        google.colab.kernel.accessAllowed ? 'block' : 'none';\n",
              "\n",
              "      async function convertToInteractive(key) {\n",
              "        const element = document.querySelector('#df-e135f4ae-ab57-4f39-a878-648aac1a9cab');\n",
              "        const dataTable =\n",
              "          await google.colab.kernel.invokeFunction('convertToInteractive',\n",
              "                                                    [key], {});\n",
              "        if (!dataTable) return;\n",
              "\n",
              "        const docLinkHtml = 'Like what you see? Visit the ' +\n",
              "          '<a target=\"_blank\" href=https://colab.research.google.com/notebooks/data_table.ipynb>data table notebook</a>'\n",
              "          + ' to learn more about interactive tables.';\n",
              "        element.innerHTML = '';\n",
              "        dataTable['output_type'] = 'display_data';\n",
              "        await google.colab.output.renderOutput(dataTable, element);\n",
              "        const docLink = document.createElement('div');\n",
              "        docLink.innerHTML = docLinkHtml;\n",
              "        element.appendChild(docLink);\n",
              "      }\n",
              "    </script>\n",
              "  </div>\n",
              "\n",
              "\n",
              "<div id=\"df-d182b3ef-5049-40db-8da6-285ce5f86e22\">\n",
              "  <button class=\"colab-df-quickchart\" onclick=\"quickchart('df-d182b3ef-5049-40db-8da6-285ce5f86e22')\"\n",
              "            title=\"Suggest charts\"\n",
              "            style=\"display:none;\">\n",
              "\n",
              "<svg xmlns=\"http://www.w3.org/2000/svg\" height=\"24px\"viewBox=\"0 0 24 24\"\n",
              "     width=\"24px\">\n",
              "    <g>\n",
              "        <path d=\"M19 3H5c-1.1 0-2 .9-2 2v14c0 1.1.9 2 2 2h14c1.1 0 2-.9 2-2V5c0-1.1-.9-2-2-2zM9 17H7v-7h2v7zm4 0h-2V7h2v10zm4 0h-2v-4h2v4z\"/>\n",
              "    </g>\n",
              "</svg>\n",
              "  </button>\n",
              "\n",
              "<style>\n",
              "  .colab-df-quickchart {\n",
              "      --bg-color: #E8F0FE;\n",
              "      --fill-color: #1967D2;\n",
              "      --hover-bg-color: #E2EBFA;\n",
              "      --hover-fill-color: #174EA6;\n",
              "      --disabled-fill-color: #AAA;\n",
              "      --disabled-bg-color: #DDD;\n",
              "  }\n",
              "\n",
              "  [theme=dark] .colab-df-quickchart {\n",
              "      --bg-color: #3B4455;\n",
              "      --fill-color: #D2E3FC;\n",
              "      --hover-bg-color: #434B5C;\n",
              "      --hover-fill-color: #FFFFFF;\n",
              "      --disabled-bg-color: #3B4455;\n",
              "      --disabled-fill-color: #666;\n",
              "  }\n",
              "\n",
              "  .colab-df-quickchart {\n",
              "    background-color: var(--bg-color);\n",
              "    border: none;\n",
              "    border-radius: 50%;\n",
              "    cursor: pointer;\n",
              "    display: none;\n",
              "    fill: var(--fill-color);\n",
              "    height: 32px;\n",
              "    padding: 0;\n",
              "    width: 32px;\n",
              "  }\n",
              "\n",
              "  .colab-df-quickchart:hover {\n",
              "    background-color: var(--hover-bg-color);\n",
              "    box-shadow: 0 1px 2px rgba(60, 64, 67, 0.3), 0 1px 3px 1px rgba(60, 64, 67, 0.15);\n",
              "    fill: var(--button-hover-fill-color);\n",
              "  }\n",
              "\n",
              "  .colab-df-quickchart-complete:disabled,\n",
              "  .colab-df-quickchart-complete:disabled:hover {\n",
              "    background-color: var(--disabled-bg-color);\n",
              "    fill: var(--disabled-fill-color);\n",
              "    box-shadow: none;\n",
              "  }\n",
              "\n",
              "  .colab-df-spinner {\n",
              "    border: 2px solid var(--fill-color);\n",
              "    border-color: transparent;\n",
              "    border-bottom-color: var(--fill-color);\n",
              "    animation:\n",
              "      spin 1s steps(1) infinite;\n",
              "  }\n",
              "\n",
              "  @keyframes spin {\n",
              "    0% {\n",
              "      border-color: transparent;\n",
              "      border-bottom-color: var(--fill-color);\n",
              "      border-left-color: var(--fill-color);\n",
              "    }\n",
              "    20% {\n",
              "      border-color: transparent;\n",
              "      border-left-color: var(--fill-color);\n",
              "      border-top-color: var(--fill-color);\n",
              "    }\n",
              "    30% {\n",
              "      border-color: transparent;\n",
              "      border-left-color: var(--fill-color);\n",
              "      border-top-color: var(--fill-color);\n",
              "      border-right-color: var(--fill-color);\n",
              "    }\n",
              "    40% {\n",
              "      border-color: transparent;\n",
              "      border-right-color: var(--fill-color);\n",
              "      border-top-color: var(--fill-color);\n",
              "    }\n",
              "    60% {\n",
              "      border-color: transparent;\n",
              "      border-right-color: var(--fill-color);\n",
              "    }\n",
              "    80% {\n",
              "      border-color: transparent;\n",
              "      border-right-color: var(--fill-color);\n",
              "      border-bottom-color: var(--fill-color);\n",
              "    }\n",
              "    90% {\n",
              "      border-color: transparent;\n",
              "      border-bottom-color: var(--fill-color);\n",
              "    }\n",
              "  }\n",
              "</style>\n",
              "\n",
              "  <script>\n",
              "    async function quickchart(key) {\n",
              "      const quickchartButtonEl =\n",
              "        document.querySelector('#' + key + ' button');\n",
              "      quickchartButtonEl.disabled = true;  // To prevent multiple clicks.\n",
              "      quickchartButtonEl.classList.add('colab-df-spinner');\n",
              "      try {\n",
              "        const charts = await google.colab.kernel.invokeFunction(\n",
              "            'suggestCharts', [key], {});\n",
              "      } catch (error) {\n",
              "        console.error('Error during call to suggestCharts:', error);\n",
              "      }\n",
              "      quickchartButtonEl.classList.remove('colab-df-spinner');\n",
              "      quickchartButtonEl.classList.add('colab-df-quickchart-complete');\n",
              "    }\n",
              "    (() => {\n",
              "      let quickchartButtonEl =\n",
              "        document.querySelector('#df-d182b3ef-5049-40db-8da6-285ce5f86e22 button');\n",
              "      quickchartButtonEl.style.display =\n",
              "        google.colab.kernel.accessAllowed ? 'block' : 'none';\n",
              "    })();\n",
              "  </script>\n",
              "</div>\n",
              "    </div>\n",
              "  </div>\n"
            ],
            "application/vnd.google.colaboratory.intrinsic+json": {
              "type": "dataframe",
              "variable_name": "df_encoded"
            }
          },
          "metadata": {},
          "execution_count": 60
        }
      ],
      "source": [
        "df_encoded.head(5)"
      ]
    },
    {
      "cell_type": "code",
      "execution_count": null,
      "metadata": {
        "id": "aqDS27czvUF9"
      },
      "outputs": [],
      "source": [
        "X = df_encoded.drop('treatment', axis=1)\n",
        "y= df_encoded['treatment']\n",
        "\n",
        "label_encoder = LabelEncoder()\n",
        "y = label_encoder.fit_transform(y)\n",
        "\n",
        "X_train, X_test, y_train, y_test = train_test_split(X, y, test_size=0.3, random_state=99)"
      ]
    },
    {
      "cell_type": "code",
      "execution_count": null,
      "metadata": {
        "colab": {
          "base_uri": "https://localhost:8080/"
        },
        "id": "tlPgXbNDvUOz",
        "outputId": "0eb8664e-4628-406e-8372-f13847803775"
      },
      "outputs": [
        {
          "output_type": "stream",
          "name": "stdout",
          "text": [
            "Распределение классов в y_train: {0: 416, 1: 442}\n"
          ]
        }
      ],
      "source": [
        "import numpy as np\n",
        "\n",
        "# Проверка распределения классов\n",
        "unique_classes, class_counts = np.unique(y_train, return_counts=True)\n",
        "class_distribution = dict(zip(unique_classes, class_counts))\n",
        "\n",
        "print(\"Распределение классов в y_train:\", class_distribution)\n"
      ]
    },
    {
      "cell_type": "code",
      "execution_count": null,
      "metadata": {
        "colab": {
          "base_uri": "https://localhost:8080/",
          "height": 398
        },
        "id": "fO1NQJrVvUc2",
        "outputId": "2455df38-8ec7-4231-a360-6165fdfffe40"
      },
      "outputs": [
        {
          "output_type": "execute_result",
          "data": {
            "text/plain": [
              "0    0\n",
              "1    0\n",
              "2    1\n",
              "3    0\n",
              "4    1\n",
              "5    1\n",
              "6    1\n",
              "7    1\n",
              "8    0\n",
              "9    1\n",
              "Name: treatment, dtype: int64"
            ],
            "text/html": [
              "<div>\n",
              "<style scoped>\n",
              "    .dataframe tbody tr th:only-of-type {\n",
              "        vertical-align: middle;\n",
              "    }\n",
              "\n",
              "    .dataframe tbody tr th {\n",
              "        vertical-align: top;\n",
              "    }\n",
              "\n",
              "    .dataframe thead th {\n",
              "        text-align: right;\n",
              "    }\n",
              "</style>\n",
              "<table border=\"1\" class=\"dataframe\">\n",
              "  <thead>\n",
              "    <tr style=\"text-align: right;\">\n",
              "      <th></th>\n",
              "      <th>treatment</th>\n",
              "    </tr>\n",
              "  </thead>\n",
              "  <tbody>\n",
              "    <tr>\n",
              "      <th>0</th>\n",
              "      <td>0</td>\n",
              "    </tr>\n",
              "    <tr>\n",
              "      <th>1</th>\n",
              "      <td>0</td>\n",
              "    </tr>\n",
              "    <tr>\n",
              "      <th>2</th>\n",
              "      <td>1</td>\n",
              "    </tr>\n",
              "    <tr>\n",
              "      <th>3</th>\n",
              "      <td>0</td>\n",
              "    </tr>\n",
              "    <tr>\n",
              "      <th>4</th>\n",
              "      <td>1</td>\n",
              "    </tr>\n",
              "    <tr>\n",
              "      <th>5</th>\n",
              "      <td>1</td>\n",
              "    </tr>\n",
              "    <tr>\n",
              "      <th>6</th>\n",
              "      <td>1</td>\n",
              "    </tr>\n",
              "    <tr>\n",
              "      <th>7</th>\n",
              "      <td>1</td>\n",
              "    </tr>\n",
              "    <tr>\n",
              "      <th>8</th>\n",
              "      <td>0</td>\n",
              "    </tr>\n",
              "    <tr>\n",
              "      <th>9</th>\n",
              "      <td>1</td>\n",
              "    </tr>\n",
              "  </tbody>\n",
              "</table>\n",
              "</div><br><label><b>dtype:</b> int64</label>"
            ]
          },
          "metadata": {},
          "execution_count": 63
        }
      ],
      "source": [
        "df_encoded['treatment'].head(10)\n"
      ]
    },
    {
      "cell_type": "code",
      "execution_count": null,
      "metadata": {
        "id": "CkndGREfvUo5"
      },
      "outputs": [],
      "source": [
        "df_encoded['treatment'] = df_encoded['treatment'].map({'Yes': 1, 'No': 0})\n"
      ]
    },
    {
      "cell_type": "code",
      "execution_count": null,
      "metadata": {
        "colab": {
          "base_uri": "https://localhost:8080/"
        },
        "id": "SlY7iwDtvUzh",
        "outputId": "3243fe8c-67e8-4f30-9041-26e05768f2f5"
      },
      "outputs": [
        {
          "output_type": "stream",
          "name": "stdout",
          "text": [
            "Уникальные классы в y_train: [0 1]\n"
          ]
        }
      ],
      "source": [
        "# Проверка распределения классов в y_train\n",
        "unique_classes = np.unique(y_train)\n",
        "print(\"Уникальные классы в y_train:\", unique_classes)\n"
      ]
    },
    {
      "cell_type": "code",
      "execution_count": null,
      "metadata": {
        "colab": {
          "base_uri": "https://localhost:8080/"
        },
        "id": "nlxDceTYvU9E",
        "outputId": "7de623a4-9569-4a9e-e22c-8eff27cd1da8"
      },
      "outputs": [
        {
          "output_type": "stream",
          "name": "stdout",
          "text": [
            "Уникальные значения в колонке treatment: [nan]\n"
          ]
        }
      ],
      "source": [
        "# Проверка уникальных значений в колонке treatment\n",
        "print(\"Уникальные значения в колонке treatment:\", df_encoded['treatment'].unique())\n"
      ]
    },
    {
      "cell_type": "code",
      "execution_count": null,
      "metadata": {
        "colab": {
          "base_uri": "https://localhost:8080/"
        },
        "id": "bBvP1Cmhvb-y",
        "outputId": "e76c33a9-d907-4e59-f34b-b8e9513c60c2"
      },
      "outputs": [
        {
          "output_type": "stream",
          "name": "stdout",
          "text": [
            "Логистическая регрессия:\n",
            "Точность: 0.8396739130434783\n",
            "              precision    recall  f1-score   support\n",
            "\n",
            "           0       0.93      0.75      0.83       190\n",
            "           1       0.78      0.94      0.85       178\n",
            "\n",
            "    accuracy                           0.84       368\n",
            "   macro avg       0.85      0.84      0.84       368\n",
            "weighted avg       0.85      0.84      0.84       368\n",
            "\n"
          ]
        }
      ],
      "source": [
        "# Создаем экземпляр модели логистической регрессии\n",
        "log_reg = LogisticRegression(max_iter=1000)\n",
        "\n",
        "# Обучаем модель\n",
        "log_reg.fit(X_train, y_train)\n",
        "\n",
        "# Предсказываем на тестовых данных\n",
        "y_pred_log_reg = log_reg.predict(X_test)\n",
        "\n",
        "# Оценка модели\n",
        "print(\"Логистическая регрессия:\")\n",
        "print(\"Точность:\", accuracy_score(y_test, y_pred_log_reg))\n",
        "print(classification_report(y_test, y_pred_log_reg))"
      ]
    },
    {
      "cell_type": "code",
      "execution_count": null,
      "metadata": {
        "colab": {
          "base_uri": "https://localhost:8080/"
        },
        "id": "LLuiULrqvc8l",
        "outputId": "3e8b70ee-4ab5-45d4-d943-d941ff237cd7"
      },
      "outputs": [
        {
          "output_type": "stream",
          "name": "stdout",
          "text": [
            "Random Forest:\n",
            "Точность: 0.8125\n",
            "              precision    recall  f1-score   support\n",
            "\n",
            "           0       0.87      0.75      0.80       190\n",
            "           1       0.77      0.88      0.82       178\n",
            "\n",
            "    accuracy                           0.81       368\n",
            "   macro avg       0.82      0.81      0.81       368\n",
            "weighted avg       0.82      0.81      0.81       368\n",
            "\n"
          ]
        }
      ],
      "source": [
        "# Создаем экземпляр модели Random Forest\n",
        "rf_model = RandomForestClassifier(random_state=99)\n",
        "\n",
        "# Обучаем модель\n",
        "rf_model.fit(X_train, y_train)\n",
        "\n",
        "# Предсказываем на тестовых данных\n",
        "y_pred_rf = rf_model.predict(X_test)\n",
        "\n",
        "# Оценка модели\n",
        "print(\"Random Forest:\")\n",
        "print(\"Точность:\", accuracy_score(y_test, y_pred_rf))\n",
        "print(classification_report(y_test, y_pred_rf))\n"
      ]
    },
    {
      "cell_type": "code",
      "execution_count": null,
      "metadata": {
        "colab": {
          "base_uri": "https://localhost:8080/"
        },
        "id": "j8wguowsvc6E",
        "outputId": "389716fb-d7f4-4300-f205-66fa546e158c"
      },
      "outputs": [
        {
          "output_type": "stream",
          "name": "stdout",
          "text": [
            "Fitting 5 folds for each of 16 candidates, totalling 80 fits\n",
            "Лучшие параметры Random Forest: {'max_depth': 5, 'max_features': 'sqrt', 'min_samples_split': 2, 'n_estimators': 100}\n",
            "Лучшая точность: 0.8274037807697538\n"
          ]
        }
      ],
      "source": [
        "rf_model = RandomForestClassifier(random_state=99)\n",
        "\n",
        "# Задаем гиперпараметры для поиска\n",
        "param_grid = {\n",
        "    'n_estimators': [50, 100],\n",
        "    'max_depth': [5, 10],\n",
        "    'min_samples_split': [2, 5],\n",
        "    'max_features': ['sqrt', 'log2'],\n",
        "}\n",
        "\n",
        "\n",
        "\n",
        "grid_search_rf = GridSearchCV(estimator=rf_model, param_grid=param_grid,\n",
        "                               cv=5, scoring='accuracy', verbose=2, n_jobs=-1)\n",
        "\n",
        "\n",
        "grid_search_rf.fit(X_train, y_train)\n",
        "\n",
        "\n",
        "print(\"Лучшие параметры Random Forest:\", grid_search_rf.best_params_)\n",
        "print(\"Лучшая точность:\", grid_search_rf.best_score_)\n"
      ]
    },
    {
      "cell_type": "code",
      "execution_count": null,
      "metadata": {
        "colab": {
          "base_uri": "https://localhost:8080/"
        },
        "id": "P-3uV3nfvc29",
        "outputId": "a6642ba2-42b3-4c90-93a0-c26fbe4f7ec0"
      },
      "outputs": [
        {
          "output_type": "stream",
          "name": "stdout",
          "text": [
            "XGBoost:\n",
            "Точность: 0.7853260869565217\n",
            "              precision    recall  f1-score   support\n",
            "\n",
            "           0       0.83      0.74      0.78       190\n",
            "           1       0.75      0.84      0.79       178\n",
            "\n",
            "    accuracy                           0.79       368\n",
            "   macro avg       0.79      0.79      0.79       368\n",
            "weighted avg       0.79      0.79      0.79       368\n",
            "\n"
          ]
        }
      ],
      "source": [
        "import xgboost as xgb\n",
        "\n",
        "# Создаем экземпляр модели XGBoost\n",
        "xgb_model = xgb.XGBClassifier(random_state=99)\n",
        "\n",
        "\n",
        "xgb_model.fit(X_train, y_train)\n",
        "\n",
        "y_pred_xgb = xgb_model.predict(X_test)\n",
        "\n",
        "print(\"XGBoost:\")\n",
        "print(\"Точность:\", accuracy_score(y_test, y_pred_xgb))\n",
        "print(classification_report(y_test, y_pred_xgb))\n"
      ]
    },
    {
      "cell_type": "code",
      "execution_count": null,
      "metadata": {
        "colab": {
          "base_uri": "https://localhost:8080/"
        },
        "id": "2Uvx5lgWvc0d",
        "outputId": "9c24ef9b-ff51-4483-e441-6b2e0105f30f"
      },
      "outputs": [
        {
          "output_type": "stream",
          "name": "stdout",
          "text": [
            "Fitting 5 folds for each of 50 candidates, totalling 250 fits\n",
            "Лучшие параметры XGBoost: {'subsample': 1.0, 'n_estimators': 200, 'max_depth': 3, 'learning_rate': 0.01, 'colsample_bytree': 1.0}\n",
            "Лучшая точность: 0.8286141710866313\n"
          ]
        }
      ],
      "source": [
        "xgb_model = xgb.XGBClassifier(random_state=99)\n",
        "\n",
        "# Задаем гиперпараметры для поиска\n",
        "param_dist_xgb = {\n",
        "    'n_estimators': [50, 100, 200],\n",
        "    'max_depth': [3, 4, 5, 6, 7],\n",
        "    'learning_rate': [0.01, 0.1, 0.2],\n",
        "    'subsample': [0.5, 0.7, 1.0],\n",
        "    'colsample_bytree': [0.5, 0.7, 1.0]\n",
        "}\n",
        "\n",
        "# Инициализируем RandomizedSearchCV\n",
        "random_search_xgb = RandomizedSearchCV(estimator=xgb_model, param_distributions=param_dist_xgb,\n",
        "                                        n_iter=50, cv=5, scoring='accuracy', verbose=2, n_jobs=-1)\n",
        "\n",
        "random_search_xgb.fit(X_train, y_train)\n",
        "\n",
        "print(\"Лучшие параметры XGBoost:\", random_search_xgb.best_params_)\n",
        "print(\"Лучшая точность:\", random_search_xgb.best_score_)\n"
      ]
    },
    {
      "cell_type": "code",
      "execution_count": null,
      "metadata": {
        "colab": {
          "base_uri": "https://localhost:8080/"
        },
        "id": "IlJkg7Blvcxw",
        "outputId": "6d5bf10b-2de1-411e-c7b8-ee8af55d3079"
      },
      "outputs": [
        {
          "output_type": "stream",
          "name": "stdout",
          "text": [
            "SVM:\n",
            "Точность: 0.8342391304347826\n",
            "              precision    recall  f1-score   support\n",
            "\n",
            "           0       0.94      0.73      0.82       190\n",
            "           1       0.76      0.95      0.85       178\n",
            "\n",
            "    accuracy                           0.83       368\n",
            "   macro avg       0.85      0.84      0.83       368\n",
            "weighted avg       0.85      0.83      0.83       368\n",
            "\n"
          ]
        }
      ],
      "source": [
        "# Создаем экземпляр модели SVM\n",
        "svm_model = SVC(random_state=99)\n",
        "\n",
        "svm_model.fit(X_train, y_train)\n",
        "\n",
        "y_pred_svm = svm_model.predict(X_test)\n",
        "\n",
        "print(\"SVM:\")\n",
        "print(\"Точность:\", accuracy_score(y_test, y_pred_svm))\n",
        "print(classification_report(y_test, y_pred_svm))\n"
      ]
    },
    {
      "cell_type": "code",
      "execution_count": null,
      "metadata": {
        "colab": {
          "base_uri": "https://localhost:8080/"
        },
        "id": "gudZpfggvcvI",
        "outputId": "4c7a2583-e782-4fe0-81f8-b5cf2b3e42fe"
      },
      "outputs": [
        {
          "output_type": "stream",
          "name": "stdout",
          "text": [
            "Fitting 5 folds for each of 12 candidates, totalling 60 fits\n",
            "Лучшие параметры SVM: {'C': 0.1, 'gamma': 'scale', 'kernel': 'linear'}\n",
            "Лучшая точность: 0.8286141710866313\n"
          ]
        }
      ],
      "source": [
        "svm_model = SVC(random_state=99)\n",
        "\n",
        "# Задаем гиперпараметры для поиска\n",
        "param_grid_svm = {\n",
        "    'C': [0.1, 1, 10],\n",
        "    'kernel': ['linear', 'rbf'],  # разные ядра\n",
        "    'gamma': ['scale', 'auto']\n",
        "}\n",
        "\n",
        "# Инициализируем GridSearchCV\n",
        "grid_search_svm = GridSearchCV(estimator=svm_model, param_grid=param_grid_svm,\n",
        "                                cv=5, scoring='accuracy', verbose=2, n_jobs=-1)\n",
        "\n",
        "grid_search_svm.fit(X_train, y_train)\n",
        "\n",
        "print(\"Лучшие параметры SVM:\", grid_search_svm.best_params_)\n",
        "print(\"Лучшая точность:\", grid_search_svm.best_score_)\n"
      ]
    },
    {
      "cell_type": "code",
      "execution_count": null,
      "metadata": {
        "colab": {
          "base_uri": "https://localhost:8080/"
        },
        "id": "CGB7edkQvcp6",
        "outputId": "851f5d8d-a1b9-42bf-8725-96387e4e56bf"
      },
      "outputs": [
        {
          "output_type": "stream",
          "name": "stdout",
          "text": [
            "Requirement already satisfied: lightgbm in /usr/local/lib/python3.10/dist-packages (4.5.0)\n",
            "Requirement already satisfied: numpy>=1.17.0 in /usr/local/lib/python3.10/dist-packages (from lightgbm) (1.26.4)\n",
            "Requirement already satisfied: scipy in /usr/local/lib/python3.10/dist-packages (from lightgbm) (1.13.1)\n"
          ]
        }
      ],
      "source": [
        "pip install lightgbm\n"
      ]
    },
    {
      "cell_type": "code",
      "execution_count": null,
      "metadata": {
        "colab": {
          "base_uri": "https://localhost:8080/"
        },
        "id": "at3lo20DvVOO",
        "outputId": "f8713de5-4c77-44a2-851a-ea528ba96ce9"
      },
      "outputs": [
        {
          "output_type": "stream",
          "name": "stdout",
          "text": [
            "Requirement already satisfied: dask[dataframe] in /usr/local/lib/python3.10/dist-packages (2024.8.0)\n",
            "Requirement already satisfied: click>=8.1 in /usr/local/lib/python3.10/dist-packages (from dask[dataframe]) (8.1.7)\n",
            "Requirement already satisfied: cloudpickle>=1.5.0 in /usr/local/lib/python3.10/dist-packages (from dask[dataframe]) (2.2.1)\n",
            "Requirement already satisfied: fsspec>=2021.09.0 in /usr/local/lib/python3.10/dist-packages (from dask[dataframe]) (2024.6.1)\n",
            "Requirement already satisfied: packaging>=20.0 in /usr/local/lib/python3.10/dist-packages (from dask[dataframe]) (24.1)\n",
            "Requirement already satisfied: partd>=1.4.0 in /usr/local/lib/python3.10/dist-packages (from dask[dataframe]) (1.4.2)\n",
            "Requirement already satisfied: pyyaml>=5.3.1 in /usr/local/lib/python3.10/dist-packages (from dask[dataframe]) (6.0.2)\n",
            "Requirement already satisfied: toolz>=0.10.0 in /usr/local/lib/python3.10/dist-packages (from dask[dataframe]) (0.12.1)\n",
            "Requirement already satisfied: importlib-metadata>=4.13.0 in /usr/local/lib/python3.10/dist-packages (from dask[dataframe]) (8.4.0)\n",
            "Requirement already satisfied: pandas>=2.0 in /usr/local/lib/python3.10/dist-packages (from dask[dataframe]) (2.2.2)\n",
            "Requirement already satisfied: dask-expr<1.2,>=1.1 in /usr/local/lib/python3.10/dist-packages (from dask[dataframe]) (1.1.10)\n",
            "Requirement already satisfied: pyarrow>=7.0.0 in /usr/local/lib/python3.10/dist-packages (from dask-expr<1.2,>=1.1->dask[dataframe]) (16.1.0)\n",
            "Requirement already satisfied: zipp>=0.5 in /usr/local/lib/python3.10/dist-packages (from importlib-metadata>=4.13.0->dask[dataframe]) (3.20.2)\n",
            "Requirement already satisfied: numpy>=1.22.4 in /usr/local/lib/python3.10/dist-packages (from pandas>=2.0->dask[dataframe]) (1.26.4)\n",
            "Requirement already satisfied: python-dateutil>=2.8.2 in /usr/local/lib/python3.10/dist-packages (from pandas>=2.0->dask[dataframe]) (2.8.2)\n",
            "Requirement already satisfied: pytz>=2020.1 in /usr/local/lib/python3.10/dist-packages (from pandas>=2.0->dask[dataframe]) (2024.2)\n",
            "Requirement already satisfied: tzdata>=2022.7 in /usr/local/lib/python3.10/dist-packages (from pandas>=2.0->dask[dataframe]) (2024.2)\n",
            "Requirement already satisfied: locket in /usr/local/lib/python3.10/dist-packages (from partd>=1.4.0->dask[dataframe]) (1.0.0)\n",
            "Requirement already satisfied: six>=1.5 in /usr/local/lib/python3.10/dist-packages (from python-dateutil>=2.8.2->pandas>=2.0->dask[dataframe]) (1.16.0)\n"
          ]
        }
      ],
      "source": [
        "pip install dask[dataframe]\n"
      ]
    },
    {
      "cell_type": "code",
      "execution_count": null,
      "metadata": {
        "id": "cgXev7pqvVZO"
      },
      "outputs": [],
      "source": [
        "X_train.columns = X_train.columns.str.replace('[^a-zA-Z0-9]', '_', regex=True)\n"
      ]
    },
    {
      "cell_type": "code",
      "execution_count": null,
      "metadata": {
        "colab": {
          "base_uri": "https://localhost:8080/"
        },
        "id": "F4dBeTCPvVrG",
        "outputId": "893b5f1c-fb6f-41cf-d142-a72bd97ca119"
      },
      "outputs": [
        {
          "output_type": "stream",
          "name": "stdout",
          "text": [
            "Лучшие параметры Gradient Boosting: {'learning_rate': 0.01, 'max_depth': 3, 'n_estimators': 50, 'subsample': 0.8}\n",
            "Лучшая точность Gradient Boosting: 0.8286141710866313\n"
          ]
        }
      ],
      "source": [
        "\n",
        "# Настройка параметров для Gradient Boosting\n",
        "gb_params = {\n",
        "    'n_estimators': [50, 100],\n",
        "    'learning_rate': [0.01, 0.1],\n",
        "    'max_depth': [3, 5, 7],\n",
        "    'subsample': [0.8, 1.0]\n",
        "}\n",
        "\n",
        "# Оптимизация гиперпараметров для Gradient Boosting\n",
        "gb_clf = GradientBoostingClassifier()\n",
        "gb_grid = GridSearchCV(gb_clf, gb_params, cv=5, scoring='accuracy', n_jobs=-1)\n",
        "gb_grid.fit(X_train, y_train)\n",
        "\n",
        "# Лучшие параметры и точность\n",
        "print(\"Лучшие параметры Gradient Boosting:\", gb_grid.best_params_)\n",
        "print(\"Лучшая точность Gradient Boosting:\", gb_grid.best_score_)\n",
        "\n",
        "\n"
      ]
    },
    {
      "cell_type": "code",
      "execution_count": null,
      "metadata": {
        "colab": {
          "base_uri": "https://localhost:8080/"
        },
        "id": "nr3QvyP6vV1_",
        "outputId": "12485e0e-aac1-43ea-89c7-56f0fe9252db"
      },
      "outputs": [
        {
          "output_type": "stream",
          "name": "stdout",
          "text": [
            "[LightGBM] [Info] Number of positive: 442, number of negative: 416\n",
            "[LightGBM] [Info] Auto-choosing row-wise multi-threading, the overhead of testing was 0.000282 seconds.\n",
            "You can set `force_row_wise=true` to remove the overhead.\n",
            "And if memory is not enough, you can set `force_col_wise=true`.\n",
            "[LightGBM] [Info] Total Bins 60\n",
            "[LightGBM] [Info] Number of data points in the train set: 858, number of used features: 30\n",
            "[LightGBM] [Info] [binary:BoostFromScore]: pavg=0.515152 -> initscore=0.060625\n",
            "[LightGBM] [Info] Start training from score 0.060625\n",
            "[LightGBM] [Warning] No further splits with positive gain, best gain: -inf\n",
            "[LightGBM] [Warning] No further splits with positive gain, best gain: -inf\n",
            "[LightGBM] [Warning] No further splits with positive gain, best gain: -inf\n",
            "[LightGBM] [Warning] No further splits with positive gain, best gain: -inf\n",
            "[LightGBM] [Warning] No further splits with positive gain, best gain: -inf\n",
            "[LightGBM] [Warning] No further splits with positive gain, best gain: -inf\n",
            "[LightGBM] [Warning] No further splits with positive gain, best gain: -inf\n",
            "[LightGBM] [Warning] No further splits with positive gain, best gain: -inf\n",
            "[LightGBM] [Warning] No further splits with positive gain, best gain: -inf\n",
            "[LightGBM] [Warning] No further splits with positive gain, best gain: -inf\n",
            "[LightGBM] [Warning] No further splits with positive gain, best gain: -inf\n",
            "[LightGBM] [Warning] No further splits with positive gain, best gain: -inf\n",
            "[LightGBM] [Warning] No further splits with positive gain, best gain: -inf\n",
            "[LightGBM] [Warning] No further splits with positive gain, best gain: -inf\n",
            "[LightGBM] [Warning] No further splits with positive gain, best gain: -inf\n",
            "[LightGBM] [Warning] No further splits with positive gain, best gain: -inf\n",
            "[LightGBM] [Warning] No further splits with positive gain, best gain: -inf\n",
            "[LightGBM] [Warning] No further splits with positive gain, best gain: -inf\n",
            "[LightGBM] [Warning] No further splits with positive gain, best gain: -inf\n",
            "[LightGBM] [Warning] No further splits with positive gain, best gain: -inf\n",
            "[LightGBM] [Warning] No further splits with positive gain, best gain: -inf\n",
            "[LightGBM] [Warning] No further splits with positive gain, best gain: -inf\n",
            "[LightGBM] [Warning] No further splits with positive gain, best gain: -inf\n",
            "[LightGBM] [Warning] No further splits with positive gain, best gain: -inf\n",
            "[LightGBM] [Warning] No further splits with positive gain, best gain: -inf\n",
            "[LightGBM] [Warning] No further splits with positive gain, best gain: -inf\n",
            "[LightGBM] [Warning] No further splits with positive gain, best gain: -inf\n",
            "[LightGBM] [Warning] No further splits with positive gain, best gain: -inf\n",
            "[LightGBM] [Warning] No further splits with positive gain, best gain: -inf\n",
            "[LightGBM] [Warning] No further splits with positive gain, best gain: -inf\n",
            "[LightGBM] [Warning] No further splits with positive gain, best gain: -inf\n",
            "[LightGBM] [Warning] No further splits with positive gain, best gain: -inf\n",
            "[LightGBM] [Warning] No further splits with positive gain, best gain: -inf\n",
            "[LightGBM] [Warning] No further splits with positive gain, best gain: -inf\n",
            "[LightGBM] [Warning] No further splits with positive gain, best gain: -inf\n",
            "[LightGBM] [Warning] No further splits with positive gain, best gain: -inf\n",
            "[LightGBM] [Warning] No further splits with positive gain, best gain: -inf\n",
            "[LightGBM] [Warning] No further splits with positive gain, best gain: -inf\n",
            "[LightGBM] [Warning] No further splits with positive gain, best gain: -inf\n",
            "[LightGBM] [Warning] No further splits with positive gain, best gain: -inf\n",
            "[LightGBM] [Warning] No further splits with positive gain, best gain: -inf\n",
            "[LightGBM] [Warning] No further splits with positive gain, best gain: -inf\n",
            "[LightGBM] [Warning] No further splits with positive gain, best gain: -inf\n",
            "[LightGBM] [Warning] No further splits with positive gain, best gain: -inf\n",
            "[LightGBM] [Warning] No further splits with positive gain, best gain: -inf\n",
            "[LightGBM] [Warning] No further splits with positive gain, best gain: -inf\n",
            "[LightGBM] [Warning] No further splits with positive gain, best gain: -inf\n",
            "[LightGBM] [Warning] No further splits with positive gain, best gain: -inf\n",
            "[LightGBM] [Warning] No further splits with positive gain, best gain: -inf\n",
            "[LightGBM] [Warning] No further splits with positive gain, best gain: -inf\n",
            "Лучшие параметры LightGBM: {'learning_rate': 0.01, 'max_depth': 5, 'n_estimators': 50, 'num_leaves': 31}\n",
            "Лучшая точность LightGBM: 0.8274445804433566\n"
          ]
        },
        {
          "output_type": "stream",
          "name": "stderr",
          "text": [
            "/usr/local/lib/python3.10/dist-packages/numpy/ma/core.py:2820: RuntimeWarning: invalid value encountered in cast\n",
            "  _data = np.array(data, dtype=dtype, copy=copy,\n"
          ]
        }
      ],
      "source": [
        "# Настройка параметров для LightGBM\n",
        "lgb_params = {\n",
        "    'n_estimators': [50, 100],\n",
        "    'learning_rate': [0.01, 0.1],\n",
        "    'max_depth': [-1, 5, 10],\n",
        "    'num_leaves': [31, 63]\n",
        "}\n",
        "\n",
        "# Оптимизация гиперпараметров для LightGBM\n",
        "lgb_clf = LGBMClassifier()\n",
        "lgb_grid = GridSearchCV(lgb_clf, lgb_params, cv=5, scoring='accuracy', n_jobs=-1)\n",
        "lgb_grid.fit(X_train, y_train)\n",
        "\n",
        "# Лучшие параметры и точность\n",
        "print(\"Лучшие параметры LightGBM:\", lgb_grid.best_params_)\n",
        "print(\"Лучшая точность LightGBM:\", lgb_grid.best_score_)"
      ]
    },
    {
      "cell_type": "code",
      "execution_count": null,
      "metadata": {
        "colab": {
          "base_uri": "https://localhost:8080/"
        },
        "id": "zqrkntFAvV9-",
        "outputId": "6488afa7-14ea-4436-fc1e-1ac15b242b80"
      },
      "outputs": [
        {
          "output_type": "stream",
          "name": "stdout",
          "text": [
            "Результаты всех моделей:\n",
            "                 Model  Accuracy  \\\n",
            "0  Logistic Regression  0.839674   \n",
            "1        Random Forest  0.812500   \n",
            "2              XGBoost  0.785326   \n",
            "3                  SVM  0.834239   \n",
            "4    Gradient Boosting  0.828614   \n",
            "5             LightGBM  0.827445   \n",
            "\n",
            "                                         Best Params  \n",
            "0                                               None  \n",
            "1  {'max_depth': 5, 'max_features': 'sqrt', 'min_...  \n",
            "2  {'subsample': 1.0, 'n_estimators': 200, 'max_d...  \n",
            "3   {'C': 0.1, 'gamma': 'scale', 'kernel': 'linear'}  \n",
            "4  {'learning_rate': 0.01, 'max_depth': 3, 'n_est...  \n",
            "5  {'learning_rate': 0.01, 'max_depth': 5, 'n_est...  \n"
          ]
        }
      ],
      "source": [
        "model_results = {\n",
        "    \"Model\": [\"Logistic Regression\", \"Random Forest\", \"XGBoost\", \"SVM\", \"Gradient Boosting\", \"LightGBM\"],\n",
        "    \"Accuracy\": [\n",
        "        accuracy_score(y_test, y_pred_log_reg),  # Логистическая регрессия\n",
        "        accuracy_score(y_test, y_pred_rf),       # Random Forest\n",
        "        accuracy_score(y_test, y_pred_xgb),      # XGBoost\n",
        "        accuracy_score(y_test, y_pred_svm),      # SVM\n",
        "        gb_grid.best_score_,                     # Gradient Boosting\n",
        "        lgb_grid.best_score_                     # LightGBM\n",
        "    ],\n",
        "    \"Best Params\": [\n",
        "        None,                        # Логистическая регрессия (нет гиперпараметров)\n",
        "        grid_search_rf.best_params_,  # Random Forest\n",
        "        random_search_xgb.best_params_, # XGBoost\n",
        "        grid_search_svm.best_params_,   # SVM\n",
        "        gb_grid.best_params_,           # Gradient Boosting\n",
        "        lgb_grid.best_params_           # LightGBM\n",
        "    ]\n",
        "}\n",
        "\n",
        "# Преобразуем результаты в таблицу pandas для удобного отображения\n",
        "df_results = pd.DataFrame(model_results)\n",
        "\n",
        "# Вывод таблицы с результатами\n",
        "print(\"Результаты всех моделей:\")\n",
        "print(df_results)"
      ]
    },
    {
      "cell_type": "code",
      "source": [
        "from sklearn.metrics import accuracy_score, precision_score, recall_score, f1_score\n",
        "\n",
        "# Функция для получения метрик\n",
        "def get_metrics(y_true, y_pred, model_name):\n",
        "    accuracy = accuracy_score(y_true, y_pred)\n",
        "    precision = precision_score(y_true, y_pred)\n",
        "    recall = recall_score(y_true, y_pred)\n",
        "    f1 = f1_score(y_true, y_pred)\n",
        "\n",
        "    print(f\"{model_name}\")\n",
        "    print(f\"Accuracy: {accuracy}\")\n",
        "    print(f\"Precision: {precision}\")\n",
        "    print(f\"Recall: {recall}\")\n",
        "    print(f\"F1-score: {f1}\\n\")\n",
        "\n",
        "    return accuracy, precision, recall, f1\n"
      ],
      "metadata": {
        "id": "3jNdM9gtyLzh"
      },
      "execution_count": null,
      "outputs": []
    },
    {
      "cell_type": "code",
      "source": [
        "\n",
        "# Перед разделением на train/test заменим имена колонок правильно\n",
        "X.columns = X.columns.str.replace('[^a-zA-Z0-9]', '_', regex=True)\n",
        "\n",
        "# Теперь разделим на обучающую и тестовую выборки\n",
        "X_train, X_test, y_train, y_test = train_test_split(X, y, test_size=0.3, random_state=99)\n",
        "\n",
        "# Функция для оценки модели\n",
        "def evaluate_model(model, X_train, X_test, y_train, y_test):\n",
        "    start_time = time.time()\n",
        "    model.fit(X_train, y_train)\n",
        "    train_time = time.time() - start_time\n",
        "\n",
        "    start_time = time.time()\n",
        "    y_pred = model.predict(X_test)\n",
        "    predict_time = time.time() - start_time\n",
        "\n",
        "    accuracy = accuracy_score(y_test, y_pred)\n",
        "    precision = precision_score(y_test, y_pred)\n",
        "    recall = recall_score(y_test, y_pred)\n",
        "    f1 = f1_score(y_test, y_pred)\n",
        "\n",
        "    return {\n",
        "        \"Accuracy\": accuracy,\n",
        "        \"Precision\": precision,\n",
        "        \"Recall\": recall,\n",
        "        \"F1 Score\": f1,\n",
        "        \"Training Time\": train_time,\n",
        "        \"Prediction Time\": predict_time\n",
        "    }\n",
        "\n",
        "# Проверяем работу для моделей\n",
        "log_reg_results = evaluate_model(log_reg, X_train, X_test, y_train, y_test)\n",
        "rf_results = evaluate_model(rf_model, X_train, X_test, y_train, y_test)\n",
        "xgb_results = evaluate_model(xgb_model, X_train, X_test, y_train, y_test)\n",
        "\n",
        "# Выводим результаты\n",
        "print(\"Логистическая регрессия:\", log_reg_results)\n",
        "print(\"Random Forest:\", rf_results)\n",
        "print(\"XGBoost:\", xgb_results)\n"
      ],
      "metadata": {
        "colab": {
          "base_uri": "https://localhost:8080/"
        },
        "id": "XT1cRSMpyLxK",
        "outputId": "b9358d95-87fd-4b27-a5e0-15f0b2694ed6"
      },
      "execution_count": null,
      "outputs": [
        {
          "output_type": "stream",
          "name": "stdout",
          "text": [
            "Логистическая регрессия: {'Accuracy': 0.8396739130434783, 'Precision': 0.7767441860465116, 'Recall': 0.9382022471910112, 'F1 Score': 0.8498727735368957, 'Training Time': 0.022746562957763672, 'Prediction Time': 0.0042378902435302734}\n",
            "Random Forest: {'Accuracy': 0.8125, 'Precision': 0.7658536585365854, 'Recall': 0.8820224719101124, 'F1 Score': 0.8198433420365535, 'Training Time': 0.9324972629547119, 'Prediction Time': 0.03004288673400879}\n",
            "XGBoost: {'Accuracy': 0.7853260869565217, 'Precision': 0.7487437185929648, 'Recall': 0.8370786516853933, 'F1 Score': 0.7904509283819628, 'Training Time': 0.7046070098876953, 'Prediction Time': 0.05494523048400879}\n"
          ]
        }
      ]
    }
  ],
  "metadata": {
    "colab": {
      "provenance": []
    },
    "kernelspec": {
      "display_name": "Python 3",
      "name": "python3"
    },
    "language_info": {
      "name": "python"
    }
  },
  "nbformat": 4,
  "nbformat_minor": 0
}