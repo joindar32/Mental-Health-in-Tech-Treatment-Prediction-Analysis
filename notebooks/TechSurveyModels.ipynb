{
  "cells": [
    {
      "cell_type": "markdown",
      "source": [
        "#Обучение моделей и подбор гиперпараметров\n",
        "В этом блокноте проводится обучение нескольких моделей машинного обучения на наборе данных `df_significant` с оптимизацией  гиперпараметров. Использованные модели: логистическая регрессия, случайный лес, XGBoost, SVM, Gradient Boosting и LightGBM.\n"
      ],
      "metadata": {
        "id": "AlU3Dg-_K3iv"
      }
    },
    {
      "cell_type": "markdown",
      "source": [
        "##Установка и импорт необходимых библиотек"
      ],
      "metadata": {
        "id": "EOBLN0-VOHnE"
      }
    },
    {
      "cell_type": "code",
      "source": [
        "!pip install lightgbm"
      ],
      "metadata": {
        "colab": {
          "base_uri": "https://localhost:8080/"
        },
        "id": "qldiek9DV9gA",
        "outputId": "95e62f90-6e67-465e-eebd-e862d7ded868"
      },
      "execution_count": 1,
      "outputs": [
        {
          "output_type": "stream",
          "name": "stdout",
          "text": [
            "Requirement already satisfied: lightgbm in /usr/local/lib/python3.10/dist-packages (4.5.0)\n",
            "Requirement already satisfied: numpy>=1.17.0 in /usr/local/lib/python3.10/dist-packages (from lightgbm) (1.26.4)\n",
            "Requirement already satisfied: scipy in /usr/local/lib/python3.10/dist-packages (from lightgbm) (1.13.1)\n"
          ]
        }
      ]
    },
    {
      "cell_type": "code",
      "source": [
        "!pip install dask[dataframe]"
      ],
      "metadata": {
        "colab": {
          "base_uri": "https://localhost:8080/"
        },
        "id": "OTfdhOUqV-jH",
        "outputId": "37a4d9f1-1625-4ac8-9dd3-6d616c9330ca"
      },
      "execution_count": 2,
      "outputs": [
        {
          "output_type": "stream",
          "name": "stdout",
          "text": [
            "Requirement already satisfied: dask[dataframe] in /usr/local/lib/python3.10/dist-packages (2024.8.2)\n",
            "Requirement already satisfied: click>=8.1 in /usr/local/lib/python3.10/dist-packages (from dask[dataframe]) (8.1.7)\n",
            "Requirement already satisfied: cloudpickle>=3.0.0 in /usr/local/lib/python3.10/dist-packages (from dask[dataframe]) (3.1.0)\n",
            "Requirement already satisfied: fsspec>=2021.09.0 in /usr/local/lib/python3.10/dist-packages (from dask[dataframe]) (2024.6.1)\n",
            "Requirement already satisfied: packaging>=20.0 in /usr/local/lib/python3.10/dist-packages (from dask[dataframe]) (24.1)\n",
            "Requirement already satisfied: partd>=1.4.0 in /usr/local/lib/python3.10/dist-packages (from dask[dataframe]) (1.4.2)\n",
            "Requirement already satisfied: pyyaml>=5.3.1 in /usr/local/lib/python3.10/dist-packages (from dask[dataframe]) (6.0.2)\n",
            "Requirement already satisfied: toolz>=0.10.0 in /usr/local/lib/python3.10/dist-packages (from dask[dataframe]) (0.12.1)\n",
            "Requirement already satisfied: importlib-metadata>=4.13.0 in /usr/local/lib/python3.10/dist-packages (from dask[dataframe]) (8.5.0)\n",
            "Requirement already satisfied: pandas>=2.0 in /usr/local/lib/python3.10/dist-packages (from dask[dataframe]) (2.2.2)\n",
            "Collecting dask-expr<1.2,>=1.1 (from dask[dataframe])\n",
            "  Downloading dask_expr-1.1.16-py3-none-any.whl.metadata (2.5 kB)\n",
            "INFO: pip is looking at multiple versions of dask-expr to determine which version is compatible with other requirements. This could take a while.\n",
            "  Downloading dask_expr-1.1.15-py3-none-any.whl.metadata (2.5 kB)\n",
            "  Downloading dask_expr-1.1.14-py3-none-any.whl.metadata (2.5 kB)\n",
            "  Downloading dask_expr-1.1.13-py3-none-any.whl.metadata (2.5 kB)\n",
            "Requirement already satisfied: pyarrow>=14.0.1 in /usr/local/lib/python3.10/dist-packages (from dask-expr<1.2,>=1.1->dask[dataframe]) (16.1.0)\n",
            "Requirement already satisfied: zipp>=3.20 in /usr/local/lib/python3.10/dist-packages (from importlib-metadata>=4.13.0->dask[dataframe]) (3.20.2)\n",
            "Requirement already satisfied: numpy>=1.22.4 in /usr/local/lib/python3.10/dist-packages (from pandas>=2.0->dask[dataframe]) (1.26.4)\n",
            "Requirement already satisfied: python-dateutil>=2.8.2 in /usr/local/lib/python3.10/dist-packages (from pandas>=2.0->dask[dataframe]) (2.8.2)\n",
            "Requirement already satisfied: pytz>=2020.1 in /usr/local/lib/python3.10/dist-packages (from pandas>=2.0->dask[dataframe]) (2024.2)\n",
            "Requirement already satisfied: tzdata>=2022.7 in /usr/local/lib/python3.10/dist-packages (from pandas>=2.0->dask[dataframe]) (2024.2)\n",
            "Requirement already satisfied: locket in /usr/local/lib/python3.10/dist-packages (from partd>=1.4.0->dask[dataframe]) (1.0.0)\n",
            "Requirement already satisfied: six>=1.5 in /usr/local/lib/python3.10/dist-packages (from python-dateutil>=2.8.2->pandas>=2.0->dask[dataframe]) (1.16.0)\n",
            "Downloading dask_expr-1.1.13-py3-none-any.whl (242 kB)\n",
            "\u001b[2K   \u001b[90m━━━━━━━━━━━━━━━━━━━━━━━━━━━━━━━━━━━━━━━━\u001b[0m \u001b[32m242.6/242.6 kB\u001b[0m \u001b[31m12.8 MB/s\u001b[0m eta \u001b[36m0:00:00\u001b[0m\n",
            "\u001b[?25hInstalling collected packages: dask-expr\n",
            "Successfully installed dask-expr-1.1.13\n"
          ]
        }
      ]
    },
    {
      "cell_type": "code",
      "execution_count": 3,
      "metadata": {
        "id": "gWz5zyvpOrtD"
      },
      "outputs": [],
      "source": [
        "import numpy as np\n",
        "import pandas as pd\n",
        "import time\n",
        "import matplotlib.pyplot as plt\n",
        "import seaborn as sns\n",
        "from sklearn.model_selection import train_test_split\n",
        "from sklearn.preprocessing import StandardScaler\n",
        "from sklearn.linear_model import LogisticRegression\n",
        "from sklearn.ensemble import RandomForestClassifier\n",
        "from sklearn.pipeline import Pipeline\n",
        "from sklearn.metrics import classification_report\n",
        "import xgboost as xgb\n",
        "from sklearn.preprocessing import LabelEncoder\n",
        "from sklearn.metrics import accuracy_score, classification_report\n",
        "from sklearn.model_selection import GridSearchCV\n",
        "from sklearn.model_selection import RandomizedSearchCV\n",
        "from sklearn.svm import SVC\n",
        "from sklearn.ensemble import GradientBoostingClassifier\n",
        "from lightgbm import LGBMClassifier\n",
        "from google.colab import files\n",
        "\n",
        "\n"
      ]
    },
    {
      "cell_type": "markdown",
      "source": [
        "## Загрузка данных и предобработка\n",
        "Загружаем набора данных `df_significant.csv`, кодируем целевую перменную. Разделяем данные на обучающую и тестовую выборки\n"
      ],
      "metadata": {
        "id": "KBvZNMNQLL6J"
      }
    },
    {
      "cell_type": "code",
      "execution_count": 4,
      "metadata": {
        "id": "1MNJT0iSvQse"
      },
      "outputs": [],
      "source": [
        "df_significant = pd.read_csv(\"df_significant.csv\")"
      ]
    },
    {
      "cell_type": "code",
      "execution_count": 5,
      "metadata": {
        "colab": {
          "base_uri": "https://localhost:8080/",
          "height": 273
        },
        "id": "AL6cWukWvT7C",
        "outputId": "7a4e129d-45e8-487d-9de2-d1224dc89b84"
      },
      "outputs": [
        {
          "output_type": "execute_result",
          "data": {
            "text/plain": [
              "   work_interfere_No data  work_interfere_Sometimes  work_interfere_Never  \\\n",
              "0                   False                      True                 False   \n",
              "1                    True                     False                 False   \n",
              "2                   False                      True                 False   \n",
              "3                   False                     False                  True   \n",
              "4                   False                     False                 False   \n",
              "\n",
              "   family_history_Yes  family_history_No  work_interfere_Often  \\\n",
              "0                True              False                 False   \n",
              "1                True              False                 False   \n",
              "2                True              False                 False   \n",
              "3               False               True                 False   \n",
              "4               False               True                  True   \n",
              "\n",
              "   care_options_Yes  benefits_Yes  Standardized_gender_female  \\\n",
              "0             False          True                       False   \n",
              "1             False         False                       False   \n",
              "2              True          True                       False   \n",
              "3             False         False                       False   \n",
              "4              True          True                       False   \n",
              "\n",
              "   benefits_Don't know  ...  mental_health_consequence_Yes  seek_help_Yes  \\\n",
              "0                False  ...                          False          False   \n",
              "1                False  ...                          False          False   \n",
              "2                False  ...                          False          False   \n",
              "3                False  ...                          False          False   \n",
              "4                False  ...                          False          False   \n",
              "\n",
              "   mental_vs_physical_Don't know  wellness_program_Yes  leave_Don't know  \\\n",
              "0                          False                  True             False   \n",
              "1                           True                  True             False   \n",
              "2                          False                 False             False   \n",
              "3                          False                 False             False   \n",
              "4                          False                 False              True   \n",
              "\n",
              "   Standardized_gender_other  no_employees_6-25  coworkers_Yes  \\\n",
              "0                      False              False           True   \n",
              "1                      False               True          False   \n",
              "2                      False              False          False   \n",
              "3                      False              False          False   \n",
              "4                      False              False          False   \n",
              "\n",
              "   obs_consequence_No  treatment  \n",
              "0               False          0  \n",
              "1                True          0  \n",
              "2                True          1  \n",
              "3                True          0  \n",
              "4                True          1  \n",
              "\n",
              "[5 rows x 32 columns]"
            ],
            "text/html": [
              "\n",
              "  <div id=\"df-945d788c-c8e9-4e1c-9da6-df525725972f\" class=\"colab-df-container\">\n",
              "    <div>\n",
              "<style scoped>\n",
              "    .dataframe tbody tr th:only-of-type {\n",
              "        vertical-align: middle;\n",
              "    }\n",
              "\n",
              "    .dataframe tbody tr th {\n",
              "        vertical-align: top;\n",
              "    }\n",
              "\n",
              "    .dataframe thead th {\n",
              "        text-align: right;\n",
              "    }\n",
              "</style>\n",
              "<table border=\"1\" class=\"dataframe\">\n",
              "  <thead>\n",
              "    <tr style=\"text-align: right;\">\n",
              "      <th></th>\n",
              "      <th>work_interfere_No data</th>\n",
              "      <th>work_interfere_Sometimes</th>\n",
              "      <th>work_interfere_Never</th>\n",
              "      <th>family_history_Yes</th>\n",
              "      <th>family_history_No</th>\n",
              "      <th>work_interfere_Often</th>\n",
              "      <th>care_options_Yes</th>\n",
              "      <th>benefits_Yes</th>\n",
              "      <th>Standardized_gender_female</th>\n",
              "      <th>benefits_Don't know</th>\n",
              "      <th>...</th>\n",
              "      <th>mental_health_consequence_Yes</th>\n",
              "      <th>seek_help_Yes</th>\n",
              "      <th>mental_vs_physical_Don't know</th>\n",
              "      <th>wellness_program_Yes</th>\n",
              "      <th>leave_Don't know</th>\n",
              "      <th>Standardized_gender_other</th>\n",
              "      <th>no_employees_6-25</th>\n",
              "      <th>coworkers_Yes</th>\n",
              "      <th>obs_consequence_No</th>\n",
              "      <th>treatment</th>\n",
              "    </tr>\n",
              "  </thead>\n",
              "  <tbody>\n",
              "    <tr>\n",
              "      <th>0</th>\n",
              "      <td>False</td>\n",
              "      <td>True</td>\n",
              "      <td>False</td>\n",
              "      <td>True</td>\n",
              "      <td>False</td>\n",
              "      <td>False</td>\n",
              "      <td>False</td>\n",
              "      <td>True</td>\n",
              "      <td>False</td>\n",
              "      <td>False</td>\n",
              "      <td>...</td>\n",
              "      <td>False</td>\n",
              "      <td>False</td>\n",
              "      <td>False</td>\n",
              "      <td>True</td>\n",
              "      <td>False</td>\n",
              "      <td>False</td>\n",
              "      <td>False</td>\n",
              "      <td>True</td>\n",
              "      <td>False</td>\n",
              "      <td>0</td>\n",
              "    </tr>\n",
              "    <tr>\n",
              "      <th>1</th>\n",
              "      <td>True</td>\n",
              "      <td>False</td>\n",
              "      <td>False</td>\n",
              "      <td>True</td>\n",
              "      <td>False</td>\n",
              "      <td>False</td>\n",
              "      <td>False</td>\n",
              "      <td>False</td>\n",
              "      <td>False</td>\n",
              "      <td>False</td>\n",
              "      <td>...</td>\n",
              "      <td>False</td>\n",
              "      <td>False</td>\n",
              "      <td>True</td>\n",
              "      <td>True</td>\n",
              "      <td>False</td>\n",
              "      <td>False</td>\n",
              "      <td>True</td>\n",
              "      <td>False</td>\n",
              "      <td>True</td>\n",
              "      <td>0</td>\n",
              "    </tr>\n",
              "    <tr>\n",
              "      <th>2</th>\n",
              "      <td>False</td>\n",
              "      <td>True</td>\n",
              "      <td>False</td>\n",
              "      <td>True</td>\n",
              "      <td>False</td>\n",
              "      <td>False</td>\n",
              "      <td>True</td>\n",
              "      <td>True</td>\n",
              "      <td>False</td>\n",
              "      <td>False</td>\n",
              "      <td>...</td>\n",
              "      <td>False</td>\n",
              "      <td>False</td>\n",
              "      <td>False</td>\n",
              "      <td>False</td>\n",
              "      <td>False</td>\n",
              "      <td>False</td>\n",
              "      <td>False</td>\n",
              "      <td>False</td>\n",
              "      <td>True</td>\n",
              "      <td>1</td>\n",
              "    </tr>\n",
              "    <tr>\n",
              "      <th>3</th>\n",
              "      <td>False</td>\n",
              "      <td>False</td>\n",
              "      <td>True</td>\n",
              "      <td>False</td>\n",
              "      <td>True</td>\n",
              "      <td>False</td>\n",
              "      <td>False</td>\n",
              "      <td>False</td>\n",
              "      <td>False</td>\n",
              "      <td>False</td>\n",
              "      <td>...</td>\n",
              "      <td>False</td>\n",
              "      <td>False</td>\n",
              "      <td>False</td>\n",
              "      <td>False</td>\n",
              "      <td>False</td>\n",
              "      <td>False</td>\n",
              "      <td>False</td>\n",
              "      <td>False</td>\n",
              "      <td>True</td>\n",
              "      <td>0</td>\n",
              "    </tr>\n",
              "    <tr>\n",
              "      <th>4</th>\n",
              "      <td>False</td>\n",
              "      <td>False</td>\n",
              "      <td>False</td>\n",
              "      <td>False</td>\n",
              "      <td>True</td>\n",
              "      <td>True</td>\n",
              "      <td>True</td>\n",
              "      <td>True</td>\n",
              "      <td>False</td>\n",
              "      <td>False</td>\n",
              "      <td>...</td>\n",
              "      <td>False</td>\n",
              "      <td>False</td>\n",
              "      <td>False</td>\n",
              "      <td>False</td>\n",
              "      <td>True</td>\n",
              "      <td>False</td>\n",
              "      <td>False</td>\n",
              "      <td>False</td>\n",
              "      <td>True</td>\n",
              "      <td>1</td>\n",
              "    </tr>\n",
              "  </tbody>\n",
              "</table>\n",
              "<p>5 rows × 32 columns</p>\n",
              "</div>\n",
              "    <div class=\"colab-df-buttons\">\n",
              "\n",
              "  <div class=\"colab-df-container\">\n",
              "    <button class=\"colab-df-convert\" onclick=\"convertToInteractive('df-945d788c-c8e9-4e1c-9da6-df525725972f')\"\n",
              "            title=\"Convert this dataframe to an interactive table.\"\n",
              "            style=\"display:none;\">\n",
              "\n",
              "  <svg xmlns=\"http://www.w3.org/2000/svg\" height=\"24px\" viewBox=\"0 -960 960 960\">\n",
              "    <path d=\"M120-120v-720h720v720H120Zm60-500h600v-160H180v160Zm220 220h160v-160H400v160Zm0 220h160v-160H400v160ZM180-400h160v-160H180v160Zm440 0h160v-160H620v160ZM180-180h160v-160H180v160Zm440 0h160v-160H620v160Z\"/>\n",
              "  </svg>\n",
              "    </button>\n",
              "\n",
              "  <style>\n",
              "    .colab-df-container {\n",
              "      display:flex;\n",
              "      gap: 12px;\n",
              "    }\n",
              "\n",
              "    .colab-df-convert {\n",
              "      background-color: #E8F0FE;\n",
              "      border: none;\n",
              "      border-radius: 50%;\n",
              "      cursor: pointer;\n",
              "      display: none;\n",
              "      fill: #1967D2;\n",
              "      height: 32px;\n",
              "      padding: 0 0 0 0;\n",
              "      width: 32px;\n",
              "    }\n",
              "\n",
              "    .colab-df-convert:hover {\n",
              "      background-color: #E2EBFA;\n",
              "      box-shadow: 0px 1px 2px rgba(60, 64, 67, 0.3), 0px 1px 3px 1px rgba(60, 64, 67, 0.15);\n",
              "      fill: #174EA6;\n",
              "    }\n",
              "\n",
              "    .colab-df-buttons div {\n",
              "      margin-bottom: 4px;\n",
              "    }\n",
              "\n",
              "    [theme=dark] .colab-df-convert {\n",
              "      background-color: #3B4455;\n",
              "      fill: #D2E3FC;\n",
              "    }\n",
              "\n",
              "    [theme=dark] .colab-df-convert:hover {\n",
              "      background-color: #434B5C;\n",
              "      box-shadow: 0px 1px 3px 1px rgba(0, 0, 0, 0.15);\n",
              "      filter: drop-shadow(0px 1px 2px rgba(0, 0, 0, 0.3));\n",
              "      fill: #FFFFFF;\n",
              "    }\n",
              "  </style>\n",
              "\n",
              "    <script>\n",
              "      const buttonEl =\n",
              "        document.querySelector('#df-945d788c-c8e9-4e1c-9da6-df525725972f button.colab-df-convert');\n",
              "      buttonEl.style.display =\n",
              "        google.colab.kernel.accessAllowed ? 'block' : 'none';\n",
              "\n",
              "      async function convertToInteractive(key) {\n",
              "        const element = document.querySelector('#df-945d788c-c8e9-4e1c-9da6-df525725972f');\n",
              "        const dataTable =\n",
              "          await google.colab.kernel.invokeFunction('convertToInteractive',\n",
              "                                                    [key], {});\n",
              "        if (!dataTable) return;\n",
              "\n",
              "        const docLinkHtml = 'Like what you see? Visit the ' +\n",
              "          '<a target=\"_blank\" href=https://colab.research.google.com/notebooks/data_table.ipynb>data table notebook</a>'\n",
              "          + ' to learn more about interactive tables.';\n",
              "        element.innerHTML = '';\n",
              "        dataTable['output_type'] = 'display_data';\n",
              "        await google.colab.output.renderOutput(dataTable, element);\n",
              "        const docLink = document.createElement('div');\n",
              "        docLink.innerHTML = docLinkHtml;\n",
              "        element.appendChild(docLink);\n",
              "      }\n",
              "    </script>\n",
              "  </div>\n",
              "\n",
              "\n",
              "<div id=\"df-ffc34d98-48a0-4d85-b9b2-9cb42ab67dba\">\n",
              "  <button class=\"colab-df-quickchart\" onclick=\"quickchart('df-ffc34d98-48a0-4d85-b9b2-9cb42ab67dba')\"\n",
              "            title=\"Suggest charts\"\n",
              "            style=\"display:none;\">\n",
              "\n",
              "<svg xmlns=\"http://www.w3.org/2000/svg\" height=\"24px\"viewBox=\"0 0 24 24\"\n",
              "     width=\"24px\">\n",
              "    <g>\n",
              "        <path d=\"M19 3H5c-1.1 0-2 .9-2 2v14c0 1.1.9 2 2 2h14c1.1 0 2-.9 2-2V5c0-1.1-.9-2-2-2zM9 17H7v-7h2v7zm4 0h-2V7h2v10zm4 0h-2v-4h2v4z\"/>\n",
              "    </g>\n",
              "</svg>\n",
              "  </button>\n",
              "\n",
              "<style>\n",
              "  .colab-df-quickchart {\n",
              "      --bg-color: #E8F0FE;\n",
              "      --fill-color: #1967D2;\n",
              "      --hover-bg-color: #E2EBFA;\n",
              "      --hover-fill-color: #174EA6;\n",
              "      --disabled-fill-color: #AAA;\n",
              "      --disabled-bg-color: #DDD;\n",
              "  }\n",
              "\n",
              "  [theme=dark] .colab-df-quickchart {\n",
              "      --bg-color: #3B4455;\n",
              "      --fill-color: #D2E3FC;\n",
              "      --hover-bg-color: #434B5C;\n",
              "      --hover-fill-color: #FFFFFF;\n",
              "      --disabled-bg-color: #3B4455;\n",
              "      --disabled-fill-color: #666;\n",
              "  }\n",
              "\n",
              "  .colab-df-quickchart {\n",
              "    background-color: var(--bg-color);\n",
              "    border: none;\n",
              "    border-radius: 50%;\n",
              "    cursor: pointer;\n",
              "    display: none;\n",
              "    fill: var(--fill-color);\n",
              "    height: 32px;\n",
              "    padding: 0;\n",
              "    width: 32px;\n",
              "  }\n",
              "\n",
              "  .colab-df-quickchart:hover {\n",
              "    background-color: var(--hover-bg-color);\n",
              "    box-shadow: 0 1px 2px rgba(60, 64, 67, 0.3), 0 1px 3px 1px rgba(60, 64, 67, 0.15);\n",
              "    fill: var(--button-hover-fill-color);\n",
              "  }\n",
              "\n",
              "  .colab-df-quickchart-complete:disabled,\n",
              "  .colab-df-quickchart-complete:disabled:hover {\n",
              "    background-color: var(--disabled-bg-color);\n",
              "    fill: var(--disabled-fill-color);\n",
              "    box-shadow: none;\n",
              "  }\n",
              "\n",
              "  .colab-df-spinner {\n",
              "    border: 2px solid var(--fill-color);\n",
              "    border-color: transparent;\n",
              "    border-bottom-color: var(--fill-color);\n",
              "    animation:\n",
              "      spin 1s steps(1) infinite;\n",
              "  }\n",
              "\n",
              "  @keyframes spin {\n",
              "    0% {\n",
              "      border-color: transparent;\n",
              "      border-bottom-color: var(--fill-color);\n",
              "      border-left-color: var(--fill-color);\n",
              "    }\n",
              "    20% {\n",
              "      border-color: transparent;\n",
              "      border-left-color: var(--fill-color);\n",
              "      border-top-color: var(--fill-color);\n",
              "    }\n",
              "    30% {\n",
              "      border-color: transparent;\n",
              "      border-left-color: var(--fill-color);\n",
              "      border-top-color: var(--fill-color);\n",
              "      border-right-color: var(--fill-color);\n",
              "    }\n",
              "    40% {\n",
              "      border-color: transparent;\n",
              "      border-right-color: var(--fill-color);\n",
              "      border-top-color: var(--fill-color);\n",
              "    }\n",
              "    60% {\n",
              "      border-color: transparent;\n",
              "      border-right-color: var(--fill-color);\n",
              "    }\n",
              "    80% {\n",
              "      border-color: transparent;\n",
              "      border-right-color: var(--fill-color);\n",
              "      border-bottom-color: var(--fill-color);\n",
              "    }\n",
              "    90% {\n",
              "      border-color: transparent;\n",
              "      border-bottom-color: var(--fill-color);\n",
              "    }\n",
              "  }\n",
              "</style>\n",
              "\n",
              "  <script>\n",
              "    async function quickchart(key) {\n",
              "      const quickchartButtonEl =\n",
              "        document.querySelector('#' + key + ' button');\n",
              "      quickchartButtonEl.disabled = true;  // To prevent multiple clicks.\n",
              "      quickchartButtonEl.classList.add('colab-df-spinner');\n",
              "      try {\n",
              "        const charts = await google.colab.kernel.invokeFunction(\n",
              "            'suggestCharts', [key], {});\n",
              "      } catch (error) {\n",
              "        console.error('Error during call to suggestCharts:', error);\n",
              "      }\n",
              "      quickchartButtonEl.classList.remove('colab-df-spinner');\n",
              "      quickchartButtonEl.classList.add('colab-df-quickchart-complete');\n",
              "    }\n",
              "    (() => {\n",
              "      let quickchartButtonEl =\n",
              "        document.querySelector('#df-ffc34d98-48a0-4d85-b9b2-9cb42ab67dba button');\n",
              "      quickchartButtonEl.style.display =\n",
              "        google.colab.kernel.accessAllowed ? 'block' : 'none';\n",
              "    })();\n",
              "  </script>\n",
              "</div>\n",
              "    </div>\n",
              "  </div>\n"
            ],
            "application/vnd.google.colaboratory.intrinsic+json": {
              "type": "dataframe",
              "variable_name": "df_significant"
            }
          },
          "metadata": {},
          "execution_count": 5
        }
      ],
      "source": [
        "df_significant.head(5)"
      ]
    },
    {
      "cell_type": "code",
      "execution_count": 6,
      "metadata": {
        "id": "aqDS27czvUF9"
      },
      "outputs": [],
      "source": [
        "X = df_significant.drop('treatment', axis=1)\n",
        "y= df_significant['treatment']\n",
        "\n",
        "label_encoder = LabelEncoder()\n",
        "y = label_encoder.fit_transform(y)\n",
        "\n",
        "X_train, X_test, y_train, y_test = train_test_split(X, y, test_size=0.3, random_state=99)"
      ]
    },
    {
      "cell_type": "code",
      "execution_count": 7,
      "metadata": {
        "id": "CkndGREfvUo5"
      },
      "outputs": [],
      "source": [
        "df_significant['treatment'] = df_significant['treatment'].map({'Yes': 1, 'No': 0})\n"
      ]
    },
    {
      "cell_type": "code",
      "source": [
        "# Приведение названий признаков в обучающем и тестовом наборах к одинаковому формату\n",
        "X_train.columns = X_train.columns.str.replace('[^a-zA-Z0-9]', '_', regex=True)\n",
        "X_test.columns = X_test.columns.str.replace('[^a-zA-Z0-9]', '_', regex=True)\n"
      ],
      "metadata": {
        "id": "-LXZ_ZcDU35U"
      },
      "execution_count": 8,
      "outputs": []
    },
    {
      "cell_type": "markdown",
      "source": [
        "## Функции для обучения, оценки и подбора гиперпараметров\n",
        "\n"
      ],
      "metadata": {
        "id": "W8y2r7emLmUO"
      }
    },
    {
      "cell_type": "markdown",
      "source": [
        "Функция для обучения каждой модели, предсказания и оценки её точности. Также для вывода отчёта с метриками классификации."
      ],
      "metadata": {
        "id": "oiArPN9ZNiBz"
      }
    },
    {
      "cell_type": "code",
      "source": [
        "def train_and_evaluate(model, X_train, X_test, y_train, y_test, model_name):\n",
        "    start_time = time.time()\n",
        "\n",
        "    # Обучаем модель\n",
        "    model.fit(X_train, y_train)\n",
        "\n",
        "    # Предсказываем на тестовых данных\n",
        "    y_pred = model.predict(X_test)\n",
        "\n",
        "    # Оценка модели\n",
        "    accuracy = accuracy_score(y_test, y_pred)\n",
        "    report = classification_report(y_test, y_pred)\n",
        "\n",
        "    print(f\"{model_name}:\")\n",
        "    print(f\"Точность: {accuracy}\")\n",
        "    print(f\"Отчет классификации:\\n{report}\")\n",
        "    print(f\"Время выполнения: {time.time() - start_time:.2f} секунд\\n\")\n",
        "\n",
        "    return accuracy"
      ],
      "metadata": {
        "id": "GjjqR4h0WXLs"
      },
      "execution_count": 9,
      "outputs": []
    },
    {
      "cell_type": "markdown",
      "source": [
        "Функция для подбора гиперпараметров: для каждой модели будет проведен поиск оптимальных гиперпараметров"
      ],
      "metadata": {
        "id": "_s5WXhGTMlSj"
      }
    },
    {
      "cell_type": "code",
      "source": [
        "# Функция для гиперпараметрической оптимизации\n",
        "def hyperparameter_optimization(model, param_grid, X_train, y_train, model_name, search_type=\"grid\"):\n",
        "    start_time = time.time()\n",
        "\n",
        "    if search_type == \"grid\":\n",
        "        search = GridSearchCV(estimator=model, param_grid=param_grid, cv=5, scoring='accuracy', n_jobs=-1, verbose=2)\n",
        "    else:\n",
        "        search = RandomizedSearchCV(estimator=model, param_distributions=param_grid, n_iter=50, cv=5, scoring='accuracy', n_jobs=-1, verbose=2)\n",
        "\n",
        "    search.fit(X_train, y_train)\n",
        "\n",
        "    print(f\"Лучшие параметры для {model_name}: {search.best_params_}\")\n",
        "    print(f\"Лучшая точность: {search.best_score_}\")\n",
        "    print(f\"Время поиска: {time.time() - start_time:.2f} секунд\\n\")\n",
        "\n",
        "    return search.best_params_, search.best_score_"
      ],
      "metadata": {
        "id": "Kpdf7tE3WYd4"
      },
      "execution_count": 10,
      "outputs": []
    },
    {
      "cell_type": "markdown",
      "source": [
        "##Создание, обучение моделей и подбор гиперпарамтеров"
      ],
      "metadata": {
        "id": "h65Eyv8EM9Tq"
      }
    },
    {
      "cell_type": "code",
      "source": [
        "# Создание моделей\n",
        "log_reg = LogisticRegression(max_iter=1000)\n",
        "rf_model = RandomForestClassifier(random_state=99)\n",
        "xgb_model = xgb.XGBClassifier(random_state=99)\n",
        "svm_model = SVC(random_state=99)\n",
        "gb_model = GradientBoostingClassifier()\n",
        "lgb_model = LGBMClassifier()"
      ],
      "metadata": {
        "id": "GjSY_1rmWNi5"
      },
      "execution_count": 11,
      "outputs": []
    },
    {
      "cell_type": "code",
      "source": [
        "# Обучение моделей\n",
        "log_reg_accuracy = train_and_evaluate(log_reg, X_train, X_test, y_train, y_test, \"Logistic Regression\")\n",
        "rf_accuracy = train_and_evaluate(rf_model, X_train, X_test, y_train, y_test, \"Random Forest\")\n",
        "xgb_accuracy = train_and_evaluate(xgb_model, X_train, X_test, y_train, y_test, \"XGBoost\")\n",
        "svm_accuracy = train_and_evaluate(svm_model, X_train, X_test, y_train, y_test, \"SVM\")\n",
        "gb_accuracy = train_and_evaluate(gb_model, X_train, X_test, y_train, y_test, \"Gradient Boosting\")\n",
        "lgb_accuracy = train_and_evaluate(lgb_model, X_train, X_test, y_train, y_test, \"LightGBM\")\n"
      ],
      "metadata": {
        "colab": {
          "base_uri": "https://localhost:8080/"
        },
        "id": "xxqrupDSWOWN",
        "outputId": "ec2d47d6-c6ef-40d9-cead-e53ea880b64e"
      },
      "execution_count": 12,
      "outputs": [
        {
          "output_type": "stream",
          "name": "stdout",
          "text": [
            "Logistic Regression:\n",
            "Точность: 0.8396739130434783\n",
            "Отчет классификации:\n",
            "              precision    recall  f1-score   support\n",
            "\n",
            "           0       0.93      0.75      0.83       190\n",
            "           1       0.78      0.94      0.85       178\n",
            "\n",
            "    accuracy                           0.84       368\n",
            "   macro avg       0.85      0.84      0.84       368\n",
            "weighted avg       0.85      0.84      0.84       368\n",
            "\n",
            "Время выполнения: 0.08 секунд\n",
            "\n",
            "Random Forest:\n",
            "Точность: 0.8125\n",
            "Отчет классификации:\n",
            "              precision    recall  f1-score   support\n",
            "\n",
            "           0       0.87      0.75      0.80       190\n",
            "           1       0.77      0.88      0.82       178\n",
            "\n",
            "    accuracy                           0.81       368\n",
            "   macro avg       0.82      0.81      0.81       368\n",
            "weighted avg       0.82      0.81      0.81       368\n",
            "\n",
            "Время выполнения: 0.61 секунд\n",
            "\n",
            "XGBoost:\n",
            "Точность: 0.7853260869565217\n",
            "Отчет классификации:\n",
            "              precision    recall  f1-score   support\n",
            "\n",
            "           0       0.83      0.74      0.78       190\n",
            "           1       0.75      0.84      0.79       178\n",
            "\n",
            "    accuracy                           0.79       368\n",
            "   macro avg       0.79      0.79      0.79       368\n",
            "weighted avg       0.79      0.79      0.79       368\n",
            "\n",
            "Время выполнения: 0.34 секунд\n",
            "\n",
            "SVM:\n",
            "Точность: 0.8342391304347826\n",
            "Отчет классификации:\n",
            "              precision    recall  f1-score   support\n",
            "\n",
            "           0       0.94      0.73      0.82       190\n",
            "           1       0.76      0.95      0.85       178\n",
            "\n",
            "    accuracy                           0.83       368\n",
            "   macro avg       0.85      0.84      0.83       368\n",
            "weighted avg       0.85      0.83      0.83       368\n",
            "\n",
            "Время выполнения: 0.08 секунд\n",
            "\n",
            "Gradient Boosting:\n",
            "Точность: 0.8233695652173914\n",
            "Отчет классификации:\n",
            "              precision    recall  f1-score   support\n",
            "\n",
            "           0       0.90      0.74      0.81       190\n",
            "           1       0.77      0.92      0.83       178\n",
            "\n",
            "    accuracy                           0.82       368\n",
            "   macro avg       0.83      0.83      0.82       368\n",
            "weighted avg       0.84      0.82      0.82       368\n",
            "\n",
            "Время выполнения: 0.32 секунд\n",
            "\n",
            "[LightGBM] [Info] Number of positive: 442, number of negative: 416\n",
            "[LightGBM] [Info] Auto-choosing row-wise multi-threading, the overhead of testing was 0.000783 seconds.\n",
            "You can set `force_row_wise=true` to remove the overhead.\n",
            "And if memory is not enough, you can set `force_col_wise=true`.\n",
            "[LightGBM] [Info] Total Bins 60\n",
            "[LightGBM] [Info] Number of data points in the train set: 858, number of used features: 30\n",
            "[LightGBM] [Info] [binary:BoostFromScore]: pavg=0.515152 -> initscore=0.060625\n",
            "[LightGBM] [Info] Start training from score 0.060625\n",
            "[LightGBM] [Warning] No further splits with positive gain, best gain: -inf\n",
            "[LightGBM] [Warning] No further splits with positive gain, best gain: -inf\n",
            "[LightGBM] [Warning] No further splits with positive gain, best gain: -inf\n",
            "[LightGBM] [Warning] No further splits with positive gain, best gain: -inf\n",
            "[LightGBM] [Warning] No further splits with positive gain, best gain: -inf\n",
            "[LightGBM] [Warning] No further splits with positive gain, best gain: -inf\n",
            "[LightGBM] [Warning] No further splits with positive gain, best gain: -inf\n",
            "[LightGBM] [Warning] No further splits with positive gain, best gain: -inf\n",
            "[LightGBM] [Warning] No further splits with positive gain, best gain: -inf\n",
            "[LightGBM] [Warning] No further splits with positive gain, best gain: -inf\n",
            "[LightGBM] [Warning] No further splits with positive gain, best gain: -inf\n",
            "[LightGBM] [Warning] No further splits with positive gain, best gain: -inf\n",
            "[LightGBM] [Warning] No further splits with positive gain, best gain: -inf\n",
            "[LightGBM] [Warning] No further splits with positive gain, best gain: -inf\n",
            "[LightGBM] [Warning] No further splits with positive gain, best gain: -inf\n",
            "[LightGBM] [Warning] No further splits with positive gain, best gain: -inf\n",
            "[LightGBM] [Warning] No further splits with positive gain, best gain: -inf\n",
            "[LightGBM] [Warning] No further splits with positive gain, best gain: -inf\n",
            "[LightGBM] [Warning] No further splits with positive gain, best gain: -inf\n",
            "[LightGBM] [Warning] No further splits with positive gain, best gain: -inf\n",
            "[LightGBM] [Warning] No further splits with positive gain, best gain: -inf\n",
            "[LightGBM] [Warning] No further splits with positive gain, best gain: -inf\n",
            "LightGBM:\n",
            "Точность: 0.8043478260869565\n",
            "Отчет классификации:\n",
            "              precision    recall  f1-score   support\n",
            "\n",
            "           0       0.86      0.74      0.80       190\n",
            "           1       0.76      0.87      0.81       178\n",
            "\n",
            "    accuracy                           0.80       368\n",
            "   macro avg       0.81      0.81      0.80       368\n",
            "weighted avg       0.81      0.80      0.80       368\n",
            "\n",
            "Время выполнения: 0.22 секунд\n",
            "\n"
          ]
        }
      ]
    },
    {
      "cell_type": "code",
      "source": [
        "# Гиперпараметрическая оптимизация\n",
        "# Random Forest\n",
        "rf_param_grid = {\n",
        "    'n_estimators': [50, 100],\n",
        "    'max_depth': [5, 10],\n",
        "    'min_samples_split': [2, 5],\n",
        "    'max_features': ['sqrt', 'log2'],\n",
        "}\n",
        "best_rf_params, best_rf_score = hyperparameter_optimization(rf_model, rf_param_grid, X_train, y_train, \"Random Forest\", search_type=\"grid\")\n",
        "\n",
        "# XGBoost с RandomizedSearchCV\n",
        "xgb_param_dist = {\n",
        "    'n_estimators': [50, 100, 200],\n",
        "    'max_depth': [3, 4, 5, 6, 7],\n",
        "    'learning_rate': [0.01, 0.1, 0.2],\n",
        "    'subsample': [0.5, 0.7, 1.0],\n",
        "    'colsample_bytree': [0.5, 0.7, 1.0]\n",
        "}\n",
        "best_xgb_params, best_xgb_score = hyperparameter_optimization(xgb_model, xgb_param_dist, X_train, y_train, \"XGBoost\", search_type=\"random\")\n",
        "\n",
        "# SVM\n",
        "svm_param_grid = {\n",
        "    'C': [0.1, 1, 10],\n",
        "    'kernel': ['linear', 'rbf'],  # разные ядра\n",
        "    'gamma': ['scale', 'auto']\n",
        "}\n",
        "best_svm_params, best_svm_score = hyperparameter_optimization(svm_model, svm_param_grid, X_train, y_train, \"SVM\", search_type=\"grid\")\n",
        "\n",
        "# Gradient Boosting\n",
        "gb_param_grid = {\n",
        "    'n_estimators': [50, 100],\n",
        "    'learning_rate': [0.01, 0.1],\n",
        "    'max_depth': [3, 5, 7],\n",
        "    'subsample': [0.8, 1.0]\n",
        "}\n",
        "best_gb_params, best_gb_score = hyperparameter_optimization(gb_model, gb_param_grid, X_train, y_train, \"Gradient Boosting\", search_type=\"grid\")\n",
        "\n",
        "# LightGBM\n",
        "lgb_param_grid = {\n",
        "    'n_estimators': [50, 100],\n",
        "    'learning_rate': [0.01, 0.1],\n",
        "    'max_depth': [-1, 5, 10],\n",
        "    'num_leaves': [31, 63]\n",
        "}\n",
        "best_lgb_params, best_lgb_score = hyperparameter_optimization(lgb_model, lgb_param_grid, X_train, y_train, \"LightGBM\", search_type=\"grid\")\n",
        "\n",
        "\n"
      ],
      "metadata": {
        "colab": {
          "base_uri": "https://localhost:8080/"
        },
        "id": "Cg70G-TsUmu-",
        "outputId": "621283cb-e809-47cd-c4ff-9a1b26953b03"
      },
      "execution_count": 13,
      "outputs": [
        {
          "output_type": "stream",
          "name": "stdout",
          "text": [
            "Fitting 5 folds for each of 16 candidates, totalling 80 fits\n"
          ]
        },
        {
          "output_type": "stream",
          "name": "stderr",
          "text": [
            "/usr/local/lib/python3.10/dist-packages/numpy/ma/core.py:2820: RuntimeWarning: invalid value encountered in cast\n",
            "  _data = np.array(data, dtype=dtype, copy=copy,\n"
          ]
        },
        {
          "output_type": "stream",
          "name": "stdout",
          "text": [
            "Лучшие параметры для Random Forest: {'max_depth': 5, 'max_features': 'sqrt', 'min_samples_split': 2, 'n_estimators': 100}\n",
            "Лучшая точность: 0.8274037807697538\n",
            "Время поиска: 24.19 секунд\n",
            "\n",
            "Fitting 5 folds for each of 50 candidates, totalling 250 fits\n",
            "Лучшие параметры для XGBoost: {'subsample': 0.7, 'n_estimators': 50, 'max_depth': 4, 'learning_rate': 0.1, 'colsample_bytree': 1.0}\n",
            "Лучшая точность: 0.8286413708690331\n",
            "Время поиска: 24.95 секунд\n",
            "\n",
            "Fitting 5 folds for each of 12 candidates, totalling 60 fits\n",
            "Лучшие параметры для SVM: {'C': 0.1, 'gamma': 'scale', 'kernel': 'linear'}\n",
            "Лучшая точность: 0.8286141710866313\n",
            "Время поиска: 1.48 секунд\n",
            "\n",
            "Fitting 5 folds for each of 24 candidates, totalling 120 fits\n",
            "Лучшие параметры для Gradient Boosting: {'learning_rate': 0.01, 'max_depth': 3, 'n_estimators': 50, 'subsample': 0.8}\n",
            "Лучшая точность: 0.8286141710866313\n",
            "Время поиска: 30.27 секунд\n",
            "\n",
            "Fitting 5 folds for each of 24 candidates, totalling 120 fits\n",
            "[LightGBM] [Info] Number of positive: 442, number of negative: 416\n",
            "[LightGBM] [Info] Auto-choosing row-wise multi-threading, the overhead of testing was 0.000253 seconds.\n",
            "You can set `force_row_wise=true` to remove the overhead.\n",
            "And if memory is not enough, you can set `force_col_wise=true`.\n",
            "[LightGBM] [Info] Total Bins 60\n",
            "[LightGBM] [Info] Number of data points in the train set: 858, number of used features: 30\n",
            "[LightGBM] [Info] [binary:BoostFromScore]: pavg=0.515152 -> initscore=0.060625\n",
            "[LightGBM] [Info] Start training from score 0.060625\n",
            "[LightGBM] [Warning] No further splits with positive gain, best gain: -inf\n",
            "[LightGBM] [Warning] No further splits with positive gain, best gain: -inf\n",
            "[LightGBM] [Warning] No further splits with positive gain, best gain: -inf\n",
            "[LightGBM] [Warning] No further splits with positive gain, best gain: -inf\n",
            "[LightGBM] [Warning] No further splits with positive gain, best gain: -inf\n",
            "[LightGBM] [Warning] No further splits with positive gain, best gain: -inf\n",
            "[LightGBM] [Warning] No further splits with positive gain, best gain: -inf\n",
            "[LightGBM] [Warning] No further splits with positive gain, best gain: -inf\n",
            "[LightGBM] [Warning] No further splits with positive gain, best gain: -inf\n",
            "[LightGBM] [Warning] No further splits with positive gain, best gain: -inf\n",
            "[LightGBM] [Warning] No further splits with positive gain, best gain: -inf\n",
            "[LightGBM] [Warning] No further splits with positive gain, best gain: -inf\n",
            "[LightGBM] [Warning] No further splits with positive gain, best gain: -inf\n",
            "[LightGBM] [Warning] No further splits with positive gain, best gain: -inf\n",
            "[LightGBM] [Warning] No further splits with positive gain, best gain: -inf\n",
            "[LightGBM] [Warning] No further splits with positive gain, best gain: -inf\n",
            "[LightGBM] [Warning] No further splits with positive gain, best gain: -inf\n",
            "[LightGBM] [Warning] No further splits with positive gain, best gain: -inf\n",
            "[LightGBM] [Warning] No further splits with positive gain, best gain: -inf\n",
            "[LightGBM] [Warning] No further splits with positive gain, best gain: -inf\n",
            "[LightGBM] [Warning] No further splits with positive gain, best gain: -inf\n",
            "[LightGBM] [Warning] No further splits with positive gain, best gain: -inf\n",
            "[LightGBM] [Warning] No further splits with positive gain, best gain: -inf\n",
            "[LightGBM] [Warning] No further splits with positive gain, best gain: -inf\n",
            "[LightGBM] [Warning] No further splits with positive gain, best gain: -inf\n",
            "[LightGBM] [Warning] No further splits with positive gain, best gain: -inf\n",
            "[LightGBM] [Warning] No further splits with positive gain, best gain: -inf\n",
            "[LightGBM] [Warning] No further splits with positive gain, best gain: -inf\n",
            "[LightGBM] [Warning] No further splits with positive gain, best gain: -inf\n",
            "[LightGBM] [Warning] No further splits with positive gain, best gain: -inf\n",
            "[LightGBM] [Warning] No further splits with positive gain, best gain: -inf\n",
            "[LightGBM] [Warning] No further splits with positive gain, best gain: -inf\n",
            "[LightGBM] [Warning] No further splits with positive gain, best gain: -inf\n",
            "[LightGBM] [Warning] No further splits with positive gain, best gain: -inf\n",
            "[LightGBM] [Warning] No further splits with positive gain, best gain: -inf\n",
            "[LightGBM] [Warning] No further splits with positive gain, best gain: -inf\n",
            "[LightGBM] [Warning] No further splits with positive gain, best gain: -inf\n",
            "[LightGBM] [Warning] No further splits with positive gain, best gain: -inf\n",
            "[LightGBM] [Warning] No further splits with positive gain, best gain: -inf\n",
            "[LightGBM] [Warning] No further splits with positive gain, best gain: -inf\n",
            "[LightGBM] [Warning] No further splits with positive gain, best gain: -inf\n",
            "[LightGBM] [Warning] No further splits with positive gain, best gain: -inf\n",
            "[LightGBM] [Warning] No further splits with positive gain, best gain: -inf\n",
            "[LightGBM] [Warning] No further splits with positive gain, best gain: -inf\n",
            "[LightGBM] [Warning] No further splits with positive gain, best gain: -inf\n",
            "[LightGBM] [Warning] No further splits with positive gain, best gain: -inf\n",
            "[LightGBM] [Warning] No further splits with positive gain, best gain: -inf\n",
            "[LightGBM] [Warning] No further splits with positive gain, best gain: -inf\n",
            "[LightGBM] [Warning] No further splits with positive gain, best gain: -inf\n",
            "[LightGBM] [Warning] No further splits with positive gain, best gain: -inf\n",
            "Лучшие параметры для LightGBM: {'learning_rate': 0.01, 'max_depth': 5, 'n_estimators': 50, 'num_leaves': 31}\n",
            "Лучшая точность: 0.8274445804433566\n",
            "Время поиска: 6.87 секунд\n",
            "\n"
          ]
        },
        {
          "output_type": "stream",
          "name": "stderr",
          "text": [
            "/usr/local/lib/python3.10/dist-packages/numpy/ma/core.py:2820: RuntimeWarning: invalid value encountered in cast\n",
            "  _data = np.array(data, dtype=dtype, copy=copy,\n"
          ]
        }
      ]
    },
    {
      "cell_type": "markdown",
      "source": [
        "##Сравнение результатов моделей"
      ],
      "metadata": {
        "id": "i1NXmXHNN9mH"
      }
    },
    {
      "cell_type": "markdown",
      "source": [
        "Создание таблицы с результатми для дальнешей визуализации"
      ],
      "metadata": {
        "id": "ioFLZmeCOtT-"
      }
    },
    {
      "cell_type": "code",
      "source": [
        "# Сравнение результатов всех моделей\n",
        "model_results = {\n",
        "    \"Model\": [\"Logistic Regression\", \"Random Forest\", \"XGBoost\", \"SVM\", \"Gradient Boosting\", \"LightGBM\"],\n",
        "    \"Accuracy\": [log_reg_accuracy, rf_accuracy, xgb_accuracy, svm_accuracy, gb_accuracy, lgb_accuracy]\n",
        "}\n",
        "\n",
        "df_results = pd.DataFrame(model_results)"
      ],
      "metadata": {
        "id": "groSRUcHN51F"
      },
      "execution_count": 14,
      "outputs": []
    },
    {
      "cell_type": "code",
      "source": [
        "styled_results = df_results.style.format({\"Accuracy\": \"{:.4f}\"})\n",
        "\n",
        "print(\"Результаты всех моделей:\")\n",
        "display(styled_results)\n",
        "\n"
      ],
      "metadata": {
        "colab": {
          "base_uri": "https://localhost:8080/",
          "height": 255
        },
        "id": "3D7QXSrmaPuF",
        "outputId": "a02a31ea-22f9-484d-daa7-69b2b6437026"
      },
      "execution_count": 15,
      "outputs": [
        {
          "output_type": "stream",
          "name": "stdout",
          "text": [
            "Результаты всех моделей:\n"
          ]
        },
        {
          "output_type": "display_data",
          "data": {
            "text/plain": [
              "<pandas.io.formats.style.Styler at 0x7933d37409a0>"
            ],
            "text/html": [
              "<style type=\"text/css\">\n",
              "</style>\n",
              "<table id=\"T_e9f87\" class=\"dataframe\">\n",
              "  <thead>\n",
              "    <tr>\n",
              "      <th class=\"blank level0\" >&nbsp;</th>\n",
              "      <th id=\"T_e9f87_level0_col0\" class=\"col_heading level0 col0\" >Model</th>\n",
              "      <th id=\"T_e9f87_level0_col1\" class=\"col_heading level0 col1\" >Accuracy</th>\n",
              "    </tr>\n",
              "  </thead>\n",
              "  <tbody>\n",
              "    <tr>\n",
              "      <th id=\"T_e9f87_level0_row0\" class=\"row_heading level0 row0\" >0</th>\n",
              "      <td id=\"T_e9f87_row0_col0\" class=\"data row0 col0\" >Logistic Regression</td>\n",
              "      <td id=\"T_e9f87_row0_col1\" class=\"data row0 col1\" >0.8397</td>\n",
              "    </tr>\n",
              "    <tr>\n",
              "      <th id=\"T_e9f87_level0_row1\" class=\"row_heading level0 row1\" >1</th>\n",
              "      <td id=\"T_e9f87_row1_col0\" class=\"data row1 col0\" >Random Forest</td>\n",
              "      <td id=\"T_e9f87_row1_col1\" class=\"data row1 col1\" >0.8125</td>\n",
              "    </tr>\n",
              "    <tr>\n",
              "      <th id=\"T_e9f87_level0_row2\" class=\"row_heading level0 row2\" >2</th>\n",
              "      <td id=\"T_e9f87_row2_col0\" class=\"data row2 col0\" >XGBoost</td>\n",
              "      <td id=\"T_e9f87_row2_col1\" class=\"data row2 col1\" >0.7853</td>\n",
              "    </tr>\n",
              "    <tr>\n",
              "      <th id=\"T_e9f87_level0_row3\" class=\"row_heading level0 row3\" >3</th>\n",
              "      <td id=\"T_e9f87_row3_col0\" class=\"data row3 col0\" >SVM</td>\n",
              "      <td id=\"T_e9f87_row3_col1\" class=\"data row3 col1\" >0.8342</td>\n",
              "    </tr>\n",
              "    <tr>\n",
              "      <th id=\"T_e9f87_level0_row4\" class=\"row_heading level0 row4\" >4</th>\n",
              "      <td id=\"T_e9f87_row4_col0\" class=\"data row4 col0\" >Gradient Boosting</td>\n",
              "      <td id=\"T_e9f87_row4_col1\" class=\"data row4 col1\" >0.8234</td>\n",
              "    </tr>\n",
              "    <tr>\n",
              "      <th id=\"T_e9f87_level0_row5\" class=\"row_heading level0 row5\" >5</th>\n",
              "      <td id=\"T_e9f87_row5_col0\" class=\"data row5 col0\" >LightGBM</td>\n",
              "      <td id=\"T_e9f87_row5_col1\" class=\"data row5 col1\" >0.8043</td>\n",
              "    </tr>\n",
              "  </tbody>\n",
              "</table>\n"
            ]
          },
          "metadata": {}
        }
      ]
    },
    {
      "cell_type": "markdown",
      "source": [
        "Визуализация результатов"
      ],
      "metadata": {
        "id": "BWoVVyLMOxWB"
      }
    },
    {
      "cell_type": "code",
      "source": [
        "plt.figure(figsize=(10, 6))\n",
        "sns.barplot(x='Accuracy', y='Model', data=df_results, palette='pastel')\n",
        "plt.title('Comparison of Model Performance')\n",
        "plt.xlabel('Accuracy')\n",
        "plt.ylabel('Model')\n",
        "plt.xlim(0, 1)\n",
        "plt.axvline(x=0.5, color='red', linestyle='--', label='Threshold 0.5')\n",
        "plt.grid(axis='x', alpha=0.7)\n",
        "plt.legend()\n",
        "plt.show()"
      ],
      "metadata": {
        "colab": {
          "base_uri": "https://localhost:8080/",
          "height": 651
        },
        "id": "iwL9fXhpaflK",
        "outputId": "28062c00-7d8e-4533-94f0-953d80c409fe"
      },
      "execution_count": 16,
      "outputs": [
        {
          "output_type": "stream",
          "name": "stderr",
          "text": [
            "<ipython-input-16-1a593cc93af0>:2: FutureWarning: \n",
            "\n",
            "Passing `palette` without assigning `hue` is deprecated and will be removed in v0.14.0. Assign the `y` variable to `hue` and set `legend=False` for the same effect.\n",
            "\n",
            "  sns.barplot(x='Accuracy', y='Model', data=df_results, palette='pastel')\n"
          ]
        },
        {
          "output_type": "display_data",
          "data": {
            "text/plain": [
              "<Figure size 1000x600 with 1 Axes>"
            ],
            "image/png": "[encoded data removed]"
          },
          "metadata": {}
        }
      ]
    },
    {
      "cell_type": "markdown",
      "source": [
        "Наилучший результат показали **логистическая регрессия** и **SVM**. Остальные модели также были довольно эффективны, однако наихудший показатель точности был у XGBoost. Эти результаты свидетельствуют о высоком качестве данных и о наличии ясных паттернов в них."
      ],
      "metadata": {
        "id": "k-k1veXQPm6K"
      }
    }
  ],
  "metadata": {
    "colab": {
      "provenance": []
    },
    "kernelspec": {
      "display_name": "Python 3",
      "name": "python3"
    },
    "language_info": {
      "name": "python"
    }
  },
  "nbformat": 4,
  "nbformat_minor": 0
}